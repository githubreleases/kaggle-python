{
 "cells": [
  {
   "cell_type": "markdown",
   "metadata": {
    "papermill": {
     "duration": 0.021593,
     "end_time": "2021-07-10T13:11:00.032428",
     "exception": false,
     "start_time": "2021-07-10T13:11:00.010835",
     "status": "completed"
    },
    "tags": []
   },
   "source": [
    "Welcome to your first set of Python coding problems.  If this is your first time using Kaggle Notebooks, welcome! \n",
    "\n",
    "Notebooks are composed of blocks (called \"cells\") of text and code. Each of these is editable, though you'll mainly be editing the code cells to answer some questions.\n",
    "\n",
    "To get started, try running the code cell below (by pressing the ► button, or clicking on the cell and pressing ctrl+enter on your keyboard)."
   ]
  },
  {
   "cell_type": "code",
   "execution_count": 1,
   "metadata": {
    "execution": {
     "iopub.execute_input": "2021-07-10T13:11:00.088764Z",
     "iopub.status.busy": "2021-07-10T13:11:00.088075Z",
     "iopub.status.idle": "2021-07-10T13:11:00.091071Z",
     "shell.execute_reply": "2021-07-10T13:11:00.091938Z",
     "shell.execute_reply.started": "2021-07-10T12:25:46.677819Z"
    },
    "papermill": {
     "duration": 0.039064,
     "end_time": "2021-07-10T13:11:00.092332",
     "exception": false,
     "start_time": "2021-07-10T13:11:00.053268",
     "status": "completed"
    },
    "tags": []
   },
   "outputs": [
    {
     "name": "stdout",
     "output_type": "stream",
     "text": [
      "You've successfully run some Python code\n",
      "Congratulations!\n",
      "Hihihi\n"
     ]
    }
   ],
   "source": [
    "print(\"You've successfully run some Python code\")\n",
    "print(\"Congratulations!\")\n",
    "print(\"Hihihi\")"
   ]
  },
  {
   "cell_type": "markdown",
   "metadata": {
    "papermill": {
     "duration": 0.022026,
     "end_time": "2021-07-10T13:11:00.137205",
     "exception": false,
     "start_time": "2021-07-10T13:11:00.115179",
     "status": "completed"
    },
    "tags": []
   },
   "source": [
    "Try adding another line of code in the cell above and re-running it. \n",
    "\n",
    "Now let's get a little fancier:  Add a new code cell by clicking on an existing code cell, hitting the escape key, and then hitting the `a` or `b` key.  The `a` key will add a cell above the current cell, and `b` adds a cell below.\n",
    "\n",
    "Great! Now you know how to use Notebooks.\n",
    "\n",
    "Each hands-on exercise starts by setting up our feedback and code checking mechanism. Run the code cell below to do that. Then you'll be ready to move on to question 0."
   ]
  },
  {
   "cell_type": "code",
   "execution_count": 2,
   "metadata": {
    "_kg_hide-input": true,
    "_kg_hide-output": true,
    "execution": {
     "iopub.execute_input": "2021-07-10T13:11:00.189467Z",
     "iopub.status.busy": "2021-07-10T13:11:00.188616Z",
     "iopub.status.idle": "2021-07-10T13:11:00.331467Z",
     "shell.execute_reply": "2021-07-10T13:11:00.330781Z",
     "shell.execute_reply.started": "2021-07-10T12:25:46.696281Z"
    },
    "papermill": {
     "duration": 0.172564,
     "end_time": "2021-07-10T13:11:00.331608",
     "exception": false,
     "start_time": "2021-07-10T13:11:00.159044",
     "status": "completed"
    },
    "tags": []
   },
   "outputs": [
    {
     "name": "stdout",
     "output_type": "stream",
     "text": [
      "Setup complete! You're ready to start question 0.\n"
     ]
    }
   ],
   "source": [
    "from learntools.core import binder; binder.bind(globals())\n",
    "from learntools.python.ex1 import *\n",
    "print(\"Setup complete! You're ready to start question 0.\")"
   ]
  },
  {
   "cell_type": "markdown",
   "metadata": {
    "papermill": {
     "duration": 0.020737,
     "end_time": "2021-07-10T13:11:00.374066",
     "exception": false,
     "start_time": "2021-07-10T13:11:00.353329",
     "status": "completed"
    },
    "tags": []
   },
   "source": [
    "# 0.\n",
    "\n",
    "*This is a silly question intended as an introduction to the format we use for hands-on exercises throughout all Kaggle courses.*\n",
    "\n",
    "**What is your favorite color? **\n",
    "\n",
    "To complete this question, create a variable called `color` in the cell below with an appropriate value. The function call `q0.check()` (which we've already provided in the cell below) will check your answer."
   ]
  },
  {
   "cell_type": "code",
   "execution_count": 3,
   "metadata": {
    "execution": {
     "iopub.execute_input": "2021-07-10T13:11:00.424366Z",
     "iopub.status.busy": "2021-07-10T13:11:00.423680Z",
     "iopub.status.idle": "2021-07-10T13:11:00.428813Z",
     "shell.execute_reply": "2021-07-10T13:11:00.429500Z",
     "shell.execute_reply.started": "2021-07-10T12:25:46.839729Z"
    },
    "papermill": {
     "duration": 0.034031,
     "end_time": "2021-07-10T13:11:00.429715",
     "exception": false,
     "start_time": "2021-07-10T13:11:00.395684",
     "status": "completed"
    },
    "tags": []
   },
   "outputs": [
    {
     "data": {
      "application/javascript": [
       "parent.postMessage({\"jupyterEvent\": \"custom.exercise_interaction\", \"data\": {\"outcomeType\": 1, \"valueTowardsCompletion\": 0.25, \"interactionType\": 1, \"questionType\": 2, \"questionId\": \"0_ExerciseFormatTutorial\", \"learnToolsVersion\": \"0.3.4\", \"failureMessage\": \"\", \"exceptionClass\": \"\", \"trace\": \"\"}}, \"*\")"
      ],
      "text/plain": [
       "<IPython.core.display.Javascript object>"
      ]
     },
     "metadata": {},
     "output_type": "display_data"
    },
    {
     "data": {
      "text/markdown": [
       "<span style=\"color:#33cc33\">Correct:</span> What?! You got it right without needing a hint or anything? Drats. Well hey, you should still continue to the next step to get some practice asking for a hint and checking solutions. (Even though you obviously don't need any help here.)"
      ],
      "text/plain": [
       "Correct: What?! You got it right without needing a hint or anything? Drats. Well hey, you should still continue to the next step to get some practice asking for a hint and checking solutions. (Even though you obviously don't need any help here.)"
      ]
     },
     "metadata": {},
     "output_type": "display_data"
    }
   ],
   "source": [
    "# create a variable called color with an appropriate value on the line below\n",
    "# (Remember, strings in Python must be enclosed in 'single' or \"double\" quotes)\n",
    "color = 'blue'\n",
    "\n",
    "# Check your answer\n",
    "q0.check()"
   ]
  },
  {
   "cell_type": "markdown",
   "metadata": {
    "papermill": {
     "duration": 0.022166,
     "end_time": "2021-07-10T13:11:00.474566",
     "exception": false,
     "start_time": "2021-07-10T13:11:00.452400",
     "status": "completed"
    },
    "tags": []
   },
   "source": [
    "Didn't get the right answer? How do you not even know your own favorite color?!\n",
    "\n",
    "Delete the `#` in the line below to make one of the lines run. You can choose between getting a hint or the full answer by choosing which line to remove the `#` from. \n",
    "\n",
    "Removing the `#` is called uncommenting, because it changes that line from a \"comment\" which Python doesn't run to code, which Python does run."
   ]
  },
  {
   "cell_type": "code",
   "execution_count": 4,
   "metadata": {
    "execution": {
     "iopub.execute_input": "2021-07-10T13:11:00.522793Z",
     "iopub.status.busy": "2021-07-10T13:11:00.522159Z",
     "iopub.status.idle": "2021-07-10T13:11:00.525277Z",
     "shell.execute_reply": "2021-07-10T13:11:00.525827Z",
     "shell.execute_reply.started": "2021-07-10T12:25:46.85594Z"
    },
    "papermill": {
     "duration": 0.028937,
     "end_time": "2021-07-10T13:11:00.526031",
     "exception": false,
     "start_time": "2021-07-10T13:11:00.497094",
     "status": "completed"
    },
    "tags": []
   },
   "outputs": [],
   "source": [
    "# q0.hint()\n",
    "# q0.solution()"
   ]
  },
  {
   "cell_type": "markdown",
   "metadata": {
    "papermill": {
     "duration": 0.021783,
     "end_time": "2021-07-10T13:11:00.571212",
     "exception": false,
     "start_time": "2021-07-10T13:11:00.549429",
     "status": "completed"
    },
    "tags": []
   },
   "source": [
    "The upcoming questions work the same way. The only thing that will change are the question numbers. For the next question, you'll call `q1.check()`, `q1.hint()`, `q1.solution()`, for question 2, you'll call `q2.check()`, and so on."
   ]
  },
  {
   "cell_type": "markdown",
   "metadata": {
    "papermill": {
     "duration": 0.022699,
     "end_time": "2021-07-10T13:11:00.616138",
     "exception": false,
     "start_time": "2021-07-10T13:11:00.593439",
     "status": "completed"
    },
    "tags": []
   },
   "source": [
    "<hr/>\n",
    "\n",
    "# 1.\n",
    "\n",
    "Complete the code below. In case it's helpful, here is the table of available arithmetic operations:\n",
    "\n",
    "\n",
    "\n",
    "| Operator     | Name           | Description                                            |\n",
    "|--------------|----------------|--------------------------------------------------------|\n",
    "| ``a + b``    | Addition       | Sum of ``a`` and ``b``                                 |\n",
    "| ``a - b``    | Subtraction    | Difference of ``a`` and ``b``                          |\n",
    "| ``a * b``    | Multiplication | Product of ``a`` and ``b``                             |\n",
    "| ``a / b``    | True division  | Quotient of ``a`` and ``b``                            |\n",
    "| ``a // b``   | Floor division | Quotient of ``a`` and ``b``, removing fractional parts |\n",
    "| ``a % b``    | Modulus        | Integer remainder after division of ``a`` by ``b``     |\n",
    "| ``a ** b``   | Exponentiation | ``a`` raised to the power of ``b``                     |\n",
    "| ``-a``       | Negation       | The negative of ``a``                                  |\n",
    "\n",
    "<span style=\"display:none\"></span>\n"
   ]
  },
  {
   "cell_type": "code",
   "execution_count": 5,
   "metadata": {
    "execution": {
     "iopub.execute_input": "2021-07-10T13:11:00.664553Z",
     "iopub.status.busy": "2021-07-10T13:11:00.663764Z",
     "iopub.status.idle": "2021-07-10T13:11:00.671214Z",
     "shell.execute_reply": "2021-07-10T13:11:00.671764Z",
     "shell.execute_reply.started": "2021-07-10T12:25:46.864125Z"
    },
    "papermill": {
     "duration": 0.033389,
     "end_time": "2021-07-10T13:11:00.671952",
     "exception": false,
     "start_time": "2021-07-10T13:11:00.638563",
     "status": "completed"
    },
    "tags": []
   },
   "outputs": [
    {
     "data": {
      "application/javascript": [
       "parent.postMessage({\"jupyterEvent\": \"custom.exercise_interaction\", \"data\": {\"outcomeType\": 1, \"valueTowardsCompletion\": 0.25, \"interactionType\": 1, \"questionType\": 1, \"questionId\": \"1_CircleArea\", \"learnToolsVersion\": \"0.3.4\", \"failureMessage\": \"\", \"exceptionClass\": \"\", \"trace\": \"\"}}, \"*\")"
      ],
      "text/plain": [
       "<IPython.core.display.Javascript object>"
      ]
     },
     "metadata": {},
     "output_type": "display_data"
    },
    {
     "data": {
      "text/markdown": [
       "<span style=\"color:#33cc33\">Correct</span>"
      ],
      "text/plain": [
       "Correct"
      ]
     },
     "metadata": {},
     "output_type": "display_data"
    }
   ],
   "source": [
    "pi = 3.14159 # approximate\n",
    "diameter = 3\n",
    "\n",
    "# Create a variable called 'radius' equal to half the diameter\n",
    "radius = diameter / 2\n",
    "\n",
    "# Create a variable called 'area', using the formula for the area of a circle: pi times the radius squared\n",
    "area = pi * (radius ** 2)\n",
    "\n",
    "# Check your answer\n",
    "q1.check()"
   ]
  },
  {
   "cell_type": "code",
   "execution_count": 6,
   "metadata": {
    "execution": {
     "iopub.execute_input": "2021-07-10T13:11:00.722070Z",
     "iopub.status.busy": "2021-07-10T13:11:00.721396Z",
     "iopub.status.idle": "2021-07-10T13:11:00.724347Z",
     "shell.execute_reply": "2021-07-10T13:11:00.724956Z",
     "shell.execute_reply.started": "2021-07-10T12:25:46.887919Z"
    },
    "papermill": {
     "duration": 0.029874,
     "end_time": "2021-07-10T13:11:00.725178",
     "exception": false,
     "start_time": "2021-07-10T13:11:00.695304",
     "status": "completed"
    },
    "tags": []
   },
   "outputs": [],
   "source": [
    "# Uncomment and run the lines below if you need help.\n",
    "# q1.hint()\n",
    "# q1.solution()"
   ]
  },
  {
   "cell_type": "markdown",
   "metadata": {
    "papermill": {
     "duration": 0.022921,
     "end_time": "2021-07-10T13:11:00.771266",
     "exception": false,
     "start_time": "2021-07-10T13:11:00.748345",
     "status": "completed"
    },
    "tags": []
   },
   "source": [
    "<hr/>\n",
    "\n",
    "# 2.\n",
    "\n",
    "Add code to the following cell to swap variables `a` and `b` (so that `a` refers to the object previously referred to by `b` and vice versa)."
   ]
  },
  {
   "cell_type": "code",
   "execution_count": 7,
   "metadata": {
    "execution": {
     "iopub.execute_input": "2021-07-10T13:11:00.820877Z",
     "iopub.status.busy": "2021-07-10T13:11:00.820231Z",
     "iopub.status.idle": "2021-07-10T13:11:00.829173Z",
     "shell.execute_reply": "2021-07-10T13:11:00.828593Z",
     "shell.execute_reply.started": "2021-07-10T12:25:46.894603Z"
    },
    "papermill": {
     "duration": 0.034891,
     "end_time": "2021-07-10T13:11:00.829317",
     "exception": false,
     "start_time": "2021-07-10T13:11:00.794426",
     "status": "completed"
    },
    "tags": []
   },
   "outputs": [
    {
     "data": {
      "application/javascript": [
       "parent.postMessage({\"jupyterEvent\": \"custom.exercise_interaction\", \"data\": {\"outcomeType\": 1, \"valueTowardsCompletion\": 0.25, \"interactionType\": 1, \"questionType\": 2, \"questionId\": \"2_VariableSwap\", \"learnToolsVersion\": \"0.3.4\", \"failureMessage\": \"\", \"exceptionClass\": \"\", \"trace\": \"\"}}, \"*\")"
      ],
      "text/plain": [
       "<IPython.core.display.Javascript object>"
      ]
     },
     "metadata": {},
     "output_type": "display_data"
    },
    {
     "data": {
      "text/markdown": [
       "<span style=\"color:#33cc33\">Correct:</span> \n",
       "\n",
       "The most straightforward solution is to use a third variable to temporarily store one of the old values. e.g.:\n",
       "\n",
       "    tmp = a\n",
       "    a = b\n",
       "    b = tmp\n",
       "\n",
       "If you've read lots of Python code, you might have seen the following trick to swap two variables in one line:\n",
       "\n",
       "    a, b = b, a\n",
       "\n",
       "We'll demystify this bit of Python magic later when we talk about *tuples*."
      ],
      "text/plain": [
       "Correct: \n",
       "\n",
       "The most straightforward solution is to use a third variable to temporarily store one of the old values. e.g.:\n",
       "\n",
       "    tmp = a\n",
       "    a = b\n",
       "    b = tmp\n",
       "\n",
       "If you've read lots of Python code, you might have seen the following trick to swap two variables in one line:\n",
       "\n",
       "    a, b = b, a\n",
       "\n",
       "We'll demystify this bit of Python magic later when we talk about *tuples*."
      ]
     },
     "metadata": {},
     "output_type": "display_data"
    }
   ],
   "source": [
    "# Setup code - don't touch this part\n",
    "# If you're curious, these are examples of lists. We'll talk about \n",
    "# them in depth a few lessons from now. For now, just know that they're\n",
    "# yet another type of Python object, like int or float.\n",
    "a = [1, 2, 3]\n",
    "b = [3, 2, 1]\n",
    "q2.store_original_ids()\n",
    "\n",
    "# Your code goes here. Swap the values to which a and b refer.\n",
    "# If you get stuck, you can always uncomment one or both of the lines in\n",
    "# the next cell for a hint, or to peek at the solution.\n",
    "t = a\n",
    "a = b\n",
    "b = t\n",
    "\n",
    "# Check your answer\n",
    "q2.check()"
   ]
  },
  {
   "cell_type": "code",
   "execution_count": 8,
   "metadata": {
    "execution": {
     "iopub.execute_input": "2021-07-10T13:11:00.882590Z",
     "iopub.status.busy": "2021-07-10T13:11:00.881899Z",
     "iopub.status.idle": "2021-07-10T13:11:00.885221Z",
     "shell.execute_reply": "2021-07-10T13:11:00.884548Z",
     "shell.execute_reply.started": "2021-07-10T12:25:46.916743Z"
    },
    "papermill": {
     "duration": 0.031832,
     "end_time": "2021-07-10T13:11:00.885368",
     "exception": false,
     "start_time": "2021-07-10T13:11:00.853536",
     "status": "completed"
    },
    "tags": []
   },
   "outputs": [],
   "source": [
    "# q2.hint()"
   ]
  },
  {
   "cell_type": "code",
   "execution_count": 9,
   "metadata": {
    "execution": {
     "iopub.execute_input": "2021-07-10T13:11:00.939271Z",
     "iopub.status.busy": "2021-07-10T13:11:00.938605Z",
     "iopub.status.idle": "2021-07-10T13:11:00.941798Z",
     "shell.execute_reply": "2021-07-10T13:11:00.941173Z",
     "shell.execute_reply.started": "2021-07-10T12:25:46.926502Z"
    },
    "papermill": {
     "duration": 0.031539,
     "end_time": "2021-07-10T13:11:00.941962",
     "exception": false,
     "start_time": "2021-07-10T13:11:00.910423",
     "status": "completed"
    },
    "tags": []
   },
   "outputs": [],
   "source": [
    "# q2.solution()"
   ]
  },
  {
   "cell_type": "markdown",
   "metadata": {
    "papermill": {
     "duration": 0.02396,
     "end_time": "2021-07-10T13:11:00.990339",
     "exception": false,
     "start_time": "2021-07-10T13:11:00.966379",
     "status": "completed"
    },
    "tags": []
   },
   "source": [
    "<hr/>\n",
    "\n",
    "# 3a.\n",
    "\n",
    "Add parentheses to the following expression so that it evaluates to 1."
   ]
  },
  {
   "cell_type": "code",
   "execution_count": 10,
   "metadata": {
    "execution": {
     "iopub.execute_input": "2021-07-10T13:11:01.045484Z",
     "iopub.status.busy": "2021-07-10T13:11:01.044438Z",
     "iopub.status.idle": "2021-07-10T13:11:01.048820Z",
     "shell.execute_reply": "2021-07-10T13:11:01.048273Z",
     "shell.execute_reply.started": "2021-07-10T12:25:46.940346Z"
    },
    "papermill": {
     "duration": 0.03357,
     "end_time": "2021-07-10T13:11:01.048988",
     "exception": false,
     "start_time": "2021-07-10T13:11:01.015418",
     "status": "completed"
    },
    "tags": []
   },
   "outputs": [
    {
     "data": {
      "text/plain": [
       "1"
      ]
     },
     "execution_count": 10,
     "metadata": {},
     "output_type": "execute_result"
    }
   ],
   "source": [
    "(5 - 3) // 2"
   ]
  },
  {
   "cell_type": "code",
   "execution_count": 11,
   "metadata": {
    "execution": {
     "iopub.execute_input": "2021-07-10T13:11:01.102411Z",
     "iopub.status.busy": "2021-07-10T13:11:01.101670Z",
     "iopub.status.idle": "2021-07-10T13:11:01.104678Z",
     "shell.execute_reply": "2021-07-10T13:11:01.104179Z",
     "shell.execute_reply.started": "2021-07-10T12:25:46.963356Z"
    },
    "papermill": {
     "duration": 0.031246,
     "end_time": "2021-07-10T13:11:01.104819",
     "exception": false,
     "start_time": "2021-07-10T13:11:01.073573",
     "status": "completed"
    },
    "tags": []
   },
   "outputs": [],
   "source": [
    "# q3.a.hint()"
   ]
  },
  {
   "cell_type": "code",
   "execution_count": 12,
   "metadata": {
    "execution": {
     "iopub.execute_input": "2021-07-10T13:11:01.159665Z",
     "iopub.status.busy": "2021-07-10T13:11:01.159013Z",
     "iopub.status.idle": "2021-07-10T13:11:01.163959Z",
     "shell.execute_reply": "2021-07-10T13:11:01.163419Z",
     "shell.execute_reply.started": "2021-07-10T12:25:46.974432Z"
    },
    "papermill": {
     "duration": 0.034252,
     "end_time": "2021-07-10T13:11:01.164095",
     "exception": false,
     "start_time": "2021-07-10T13:11:01.129843",
     "status": "completed"
    },
    "tags": []
   },
   "outputs": [
    {
     "data": {
      "application/javascript": [
       "parent.postMessage({\"jupyterEvent\": \"custom.exercise_interaction\", \"data\": {\"interactionType\": 3, \"questionType\": 4, \"questionId\": \"3.1_ArithmeticParensEasy\", \"learnToolsVersion\": \"0.3.4\", \"valueTowardsCompletion\": 0.0, \"failureMessage\": \"\", \"exceptionClass\": \"\", \"trace\": \"\", \"outcomeType\": 4}}, \"*\")"
      ],
      "text/plain": [
       "<IPython.core.display.Javascript object>"
      ]
     },
     "metadata": {},
     "output_type": "display_data"
    },
    {
     "data": {
      "text/markdown": [
       "<span style=\"color:#33cc99\">Solution:</span> \n",
       "```python\n",
       "(5 - 3) // 2\n",
       "```"
      ],
      "text/plain": [
       "Solution: \n",
       "```python\n",
       "(5 - 3) // 2\n",
       "```"
      ]
     },
     "metadata": {},
     "output_type": "display_data"
    }
   ],
   "source": [
    "# Check your answer (Run this code cell to receive credit!)\n",
    "q3.a.solution()"
   ]
  },
  {
   "cell_type": "markdown",
   "metadata": {
    "papermill": {
     "duration": 0.025052,
     "end_time": "2021-07-10T13:11:01.214939",
     "exception": false,
     "start_time": "2021-07-10T13:11:01.189887",
     "status": "completed"
    },
    "tags": []
   },
   "source": [
    "# 3b.  <span title=\"A bit spicy\" style=\"color: darkgreen \">🌶️</span>\n",
    "\n",
    "<small>Questions, like this one, marked a spicy pepper are a bit harder.</small>\n",
    "\n",
    "Add parentheses to the following expression so that it evaluates to 0."
   ]
  },
  {
   "cell_type": "code",
   "execution_count": 13,
   "metadata": {
    "execution": {
     "iopub.execute_input": "2021-07-10T13:11:01.268308Z",
     "iopub.status.busy": "2021-07-10T13:11:01.267617Z",
     "iopub.status.idle": "2021-07-10T13:11:01.272412Z",
     "shell.execute_reply": "2021-07-10T13:11:01.272989Z",
     "shell.execute_reply.started": "2021-07-10T12:25:46.989616Z"
    },
    "papermill": {
     "duration": 0.03299,
     "end_time": "2021-07-10T13:11:01.273165",
     "exception": false,
     "start_time": "2021-07-10T13:11:01.240175",
     "status": "completed"
    },
    "tags": []
   },
   "outputs": [
    {
     "data": {
      "text/plain": [
       "0"
      ]
     },
     "execution_count": 13,
     "metadata": {},
     "output_type": "execute_result"
    }
   ],
   "source": [
    "8 - (3 * 2) - (1 + 1)"
   ]
  },
  {
   "cell_type": "code",
   "execution_count": 14,
   "metadata": {
    "execution": {
     "iopub.execute_input": "2021-07-10T13:11:01.327394Z",
     "iopub.status.busy": "2021-07-10T13:11:01.326713Z",
     "iopub.status.idle": "2021-07-10T13:11:01.330052Z",
     "shell.execute_reply": "2021-07-10T13:11:01.330568Z",
     "shell.execute_reply.started": "2021-07-10T12:25:46.999378Z"
    },
    "papermill": {
     "duration": 0.031979,
     "end_time": "2021-07-10T13:11:01.330738",
     "exception": false,
     "start_time": "2021-07-10T13:11:01.298759",
     "status": "completed"
    },
    "tags": []
   },
   "outputs": [],
   "source": [
    "# q3.b.hint()"
   ]
  },
  {
   "cell_type": "code",
   "execution_count": 15,
   "metadata": {
    "execution": {
     "iopub.execute_input": "2021-07-10T13:11:01.386370Z",
     "iopub.status.busy": "2021-07-10T13:11:01.385721Z",
     "iopub.status.idle": "2021-07-10T13:11:01.392046Z",
     "shell.execute_reply": "2021-07-10T13:11:01.392566Z",
     "shell.execute_reply.started": "2021-07-10T12:25:47.010765Z"
    },
    "papermill": {
     "duration": 0.034944,
     "end_time": "2021-07-10T13:11:01.392732",
     "exception": false,
     "start_time": "2021-07-10T13:11:01.357788",
     "status": "completed"
    },
    "tags": []
   },
   "outputs": [
    {
     "data": {
      "application/javascript": [
       "parent.postMessage({\"jupyterEvent\": \"custom.exercise_interaction\", \"data\": {\"interactionType\": 3, \"questionType\": 4, \"questionId\": \"3.2_ArithmeticParensHard\", \"learnToolsVersion\": \"0.3.4\", \"valueTowardsCompletion\": 0.0, \"failureMessage\": \"\", \"exceptionClass\": \"\", \"trace\": \"\", \"outcomeType\": 4}}, \"*\")"
      ],
      "text/plain": [
       "<IPython.core.display.Javascript object>"
      ]
     },
     "metadata": {},
     "output_type": "display_data"
    },
    {
     "data": {
      "text/markdown": [
       "<span style=\"color:#33cc99\">Solution:</span> `(8 - 3) * (2 - (1 + 1))` is one solution. There may be others."
      ],
      "text/plain": [
       "Solution: `(8 - 3) * (2 - (1 + 1))` is one solution. There may be others."
      ]
     },
     "metadata": {},
     "output_type": "display_data"
    }
   ],
   "source": [
    "# Check your answer (Run this code cell to receive credit!)\n",
    "q3.b.solution()"
   ]
  },
  {
   "cell_type": "markdown",
   "metadata": {
    "papermill": {
     "duration": 0.026327,
     "end_time": "2021-07-10T13:11:01.445827",
     "exception": false,
     "start_time": "2021-07-10T13:11:01.419500",
     "status": "completed"
    },
    "tags": []
   },
   "source": [
    "<hr/>\n",
    "\n",
    "# 4. \n",
    "Alice, Bob and Carol have agreed to pool their Halloween candy and split it evenly among themselves.\n",
    "For the sake of their friendship, any candies left over will be smashed. For example, if they collectively\n",
    "bring home 91 candies, they'll take 30 each and smash 1.\n",
    "\n",
    "Write an arithmetic expression below to calculate how many candies they must smash for a given haul."
   ]
  },
  {
   "cell_type": "code",
   "execution_count": 16,
   "metadata": {
    "execution": {
     "iopub.execute_input": "2021-07-10T13:11:01.502088Z",
     "iopub.status.busy": "2021-07-10T13:11:01.501432Z",
     "iopub.status.idle": "2021-07-10T13:11:01.508320Z",
     "shell.execute_reply": "2021-07-10T13:11:01.508914Z",
     "shell.execute_reply.started": "2021-07-10T12:25:47.024066Z"
    },
    "papermill": {
     "duration": 0.036698,
     "end_time": "2021-07-10T13:11:01.509093",
     "exception": false,
     "start_time": "2021-07-10T13:11:01.472395",
     "status": "completed"
    },
    "tags": []
   },
   "outputs": [
    {
     "data": {
      "application/javascript": [
       "parent.postMessage({\"jupyterEvent\": \"custom.exercise_interaction\", \"data\": {\"outcomeType\": 1, \"valueTowardsCompletion\": 0.25, \"interactionType\": 1, \"questionType\": 1, \"questionId\": \"4_CandySplitting\", \"learnToolsVersion\": \"0.3.4\", \"failureMessage\": \"\", \"exceptionClass\": \"\", \"trace\": \"\"}}, \"*\")"
      ],
      "text/plain": [
       "<IPython.core.display.Javascript object>"
      ]
     },
     "metadata": {},
     "output_type": "display_data"
    },
    {
     "data": {
      "text/markdown": [
       "<span style=\"color:#33cc33\">Correct</span>"
      ],
      "text/plain": [
       "Correct"
      ]
     },
     "metadata": {},
     "output_type": "display_data"
    }
   ],
   "source": [
    "# Variables representing the number of candies collected by alice, bob, and carol\n",
    "alice_candies = 121\n",
    "bob_candies = 77\n",
    "carol_candies = 109\n",
    "\n",
    "# Your code goes here! Replace the right-hand side of this assignment with an expression\n",
    "# involving alice_candies, bob_candies, and carol_candies\n",
    "to_smash = (alice_candies + bob_candies + carol_candies) % 3\n",
    "\n",
    "# Check your answer\n",
    "q4.check()"
   ]
  },
  {
   "cell_type": "code",
   "execution_count": 17,
   "metadata": {
    "execution": {
     "iopub.execute_input": "2021-07-10T13:11:01.567349Z",
     "iopub.status.busy": "2021-07-10T13:11:01.566678Z",
     "iopub.status.idle": "2021-07-10T13:11:01.569589Z",
     "shell.execute_reply": "2021-07-10T13:11:01.570206Z",
     "shell.execute_reply.started": "2021-07-10T12:25:47.035163Z"
    },
    "papermill": {
     "duration": 0.033671,
     "end_time": "2021-07-10T13:11:01.570378",
     "exception": false,
     "start_time": "2021-07-10T13:11:01.536707",
     "status": "completed"
    },
    "tags": []
   },
   "outputs": [],
   "source": [
    "# q4.hint()\n",
    "# q4.solution()"
   ]
  }
 ],
 "metadata": {
  "kernelspec": {
   "display_name": "Python 3",
   "language": "python",
   "name": "python3"
  },
  "language_info": {
   "codemirror_mode": {
    "name": "ipython",
    "version": 3
   },
   "file_extension": ".py",
   "mimetype": "text/x-python",
   "name": "python",
   "nbconvert_exporter": "python",
   "pygments_lexer": "ipython3",
   "version": "3.8.3"
  },
  "papermill": {
   "default_parameters": {},
   "duration": 11.88774,
   "end_time": "2021-07-10T13:11:03.190981",
   "environment_variables": {},
   "exception": null,
   "input_path": "__notebook__.ipynb",
   "output_path": "__notebook__.ipynb",
   "parameters": {},
   "start_time": "2021-07-10T13:10:51.303241",
   "version": "2.3.3"
  }
 },
 "nbformat": 4,
 "nbformat_minor": 5
}
