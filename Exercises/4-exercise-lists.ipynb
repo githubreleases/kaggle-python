{
 "cells": [
  {
   "cell_type": "markdown",
   "metadata": {
    "papermill": {
     "duration": 0.01534,
     "end_time": "2021-07-10T13:15:02.855547",
     "exception": false,
     "start_time": "2021-07-10T13:15:02.840207",
     "status": "completed"
    },
    "tags": []
   },
   "source": [
    "Things get more interesting with lists. You'll apply your new knowledge to solve the questions below. Remember to run the following cell first."
   ]
  },
  {
   "cell_type": "code",
   "execution_count": 1,
   "metadata": {
    "execution": {
     "iopub.execute_input": "2021-07-10T13:15:02.891189Z",
     "iopub.status.busy": "2021-07-10T13:15:02.889983Z",
     "iopub.status.idle": "2021-07-10T13:15:03.038862Z",
     "shell.execute_reply": "2021-07-10T13:15:03.039366Z",
     "shell.execute_reply.started": "2021-07-10T12:58:48.898966Z"
    },
    "papermill": {
     "duration": 0.168331,
     "end_time": "2021-07-10T13:15:03.039667",
     "exception": false,
     "start_time": "2021-07-10T13:15:02.871336",
     "status": "completed"
    },
    "tags": []
   },
   "outputs": [
    {
     "name": "stdout",
     "output_type": "stream",
     "text": [
      "Setup complete.\n"
     ]
    }
   ],
   "source": [
    "from learntools.core import binder; binder.bind(globals())\n",
    "from learntools.python.ex4 import *\n",
    "print('Setup complete.')"
   ]
  },
  {
   "cell_type": "markdown",
   "metadata": {
    "papermill": {
     "duration": 0.017996,
     "end_time": "2021-07-10T13:15:03.074187",
     "exception": false,
     "start_time": "2021-07-10T13:15:03.056191",
     "status": "completed"
    },
    "tags": []
   },
   "source": [
    "# 1.\n",
    "\n",
    "Complete the function below according to its docstring."
   ]
  },
  {
   "cell_type": "code",
   "execution_count": 2,
   "metadata": {
    "execution": {
     "iopub.execute_input": "2021-07-10T13:15:03.116305Z",
     "iopub.status.busy": "2021-07-10T13:15:03.115312Z",
     "iopub.status.idle": "2021-07-10T13:15:03.120247Z",
     "shell.execute_reply": "2021-07-10T13:15:03.120890Z",
     "shell.execute_reply.started": "2021-07-10T12:58:49.046506Z"
    },
    "papermill": {
     "duration": 0.030609,
     "end_time": "2021-07-10T13:15:03.121077",
     "exception": false,
     "start_time": "2021-07-10T13:15:03.090468",
     "status": "completed"
    },
    "tags": []
   },
   "outputs": [
    {
     "data": {
      "application/javascript": [
       "parent.postMessage({\"jupyterEvent\": \"custom.exercise_interaction\", \"data\": {\"outcomeType\": 1, \"valueTowardsCompletion\": 0.2, \"interactionType\": 1, \"questionType\": 2, \"questionId\": \"1_SelectSecondItem\", \"learnToolsVersion\": \"0.3.4\", \"failureMessage\": \"\", \"exceptionClass\": \"\", \"trace\": \"\"}}, \"*\")"
      ],
      "text/plain": [
       "<IPython.core.display.Javascript object>"
      ]
     },
     "metadata": {},
     "output_type": "display_data"
    },
    {
     "data": {
      "text/markdown": [
       "<span style=\"color:#33cc33\">Correct</span>"
      ],
      "text/plain": [
       "Correct"
      ]
     },
     "metadata": {},
     "output_type": "display_data"
    }
   ],
   "source": [
    "def select_second(L):\n",
    "    \"\"\"Return the second element of the given list. If the list has no second\n",
    "    element, return None.\n",
    "    \"\"\"\n",
    "    if len(L) < 2:\n",
    "        return None\n",
    "    else:\n",
    "        return L[1]\n",
    "\n",
    "# Check your answer\n",
    "q1.check()"
   ]
  },
  {
   "cell_type": "code",
   "execution_count": 3,
   "metadata": {
    "execution": {
     "iopub.execute_input": "2021-07-10T13:15:03.159941Z",
     "iopub.status.busy": "2021-07-10T13:15:03.158636Z",
     "iopub.status.idle": "2021-07-10T13:15:03.163458Z",
     "shell.execute_reply": "2021-07-10T13:15:03.162869Z",
     "shell.execute_reply.started": "2021-07-10T12:58:49.05934Z"
    },
    "papermill": {
     "duration": 0.024842,
     "end_time": "2021-07-10T13:15:03.163608",
     "exception": false,
     "start_time": "2021-07-10T13:15:03.138766",
     "status": "completed"
    },
    "tags": []
   },
   "outputs": [],
   "source": [
    "# q1.hint()\n",
    "# q1.solution()"
   ]
  },
  {
   "cell_type": "markdown",
   "metadata": {
    "papermill": {
     "duration": 0.016847,
     "end_time": "2021-07-10T13:15:03.197781",
     "exception": false,
     "start_time": "2021-07-10T13:15:03.180934",
     "status": "completed"
    },
    "tags": []
   },
   "source": [
    "# 2.\n",
    "\n",
    "You are analyzing sports teams.  Members of each team are stored in a list. The Coach is the first name in the list, the captain is the second name in the list, and other players are listed after that. \n",
    "These lists are stored in another list, which starts with the best team and proceeds through the list to the worst team last.  Complete the function below to select the **captain** of the worst team."
   ]
  },
  {
   "cell_type": "code",
   "execution_count": 4,
   "metadata": {
    "execution": {
     "iopub.execute_input": "2021-07-10T13:15:03.236838Z",
     "iopub.status.busy": "2021-07-10T13:15:03.235724Z",
     "iopub.status.idle": "2021-07-10T13:15:03.244999Z",
     "shell.execute_reply": "2021-07-10T13:15:03.245561Z",
     "shell.execute_reply.started": "2021-07-10T12:58:49.071145Z"
    },
    "papermill": {
     "duration": 0.030535,
     "end_time": "2021-07-10T13:15:03.245753",
     "exception": false,
     "start_time": "2021-07-10T13:15:03.215218",
     "status": "completed"
    },
    "tags": []
   },
   "outputs": [
    {
     "data": {
      "application/javascript": [
       "parent.postMessage({\"jupyterEvent\": \"custom.exercise_interaction\", \"data\": {\"outcomeType\": 1, \"valueTowardsCompletion\": 0.2, \"interactionType\": 1, \"questionType\": 2, \"questionId\": \"2_LosingTeamCaptain\", \"learnToolsVersion\": \"0.3.4\", \"failureMessage\": \"\", \"exceptionClass\": \"\", \"trace\": \"\"}}, \"*\")"
      ],
      "text/plain": [
       "<IPython.core.display.Javascript object>"
      ]
     },
     "metadata": {},
     "output_type": "display_data"
    },
    {
     "data": {
      "text/markdown": [
       "<span style=\"color:#33cc33\">Correct</span>"
      ],
      "text/plain": [
       "Correct"
      ]
     },
     "metadata": {},
     "output_type": "display_data"
    }
   ],
   "source": [
    "def losing_team_captain(teams):\n",
    "    \"\"\"Given a list of teams, where each team is a list of names, return the 2nd player (captain)\n",
    "    from the last listed team\n",
    "    \"\"\"\n",
    "    return teams[-1][1]\n",
    "\n",
    "# Check your answer\n",
    "q2.check()"
   ]
  },
  {
   "cell_type": "code",
   "execution_count": 5,
   "metadata": {
    "execution": {
     "iopub.execute_input": "2021-07-10T13:15:03.288645Z",
     "iopub.status.busy": "2021-07-10T13:15:03.287840Z",
     "iopub.status.idle": "2021-07-10T13:15:03.291774Z",
     "shell.execute_reply": "2021-07-10T13:15:03.292315Z",
     "shell.execute_reply.started": "2021-07-10T12:58:49.29734Z"
    },
    "papermill": {
     "duration": 0.028493,
     "end_time": "2021-07-10T13:15:03.292490",
     "exception": false,
     "start_time": "2021-07-10T13:15:03.263997",
     "status": "completed"
    },
    "tags": []
   },
   "outputs": [
    {
     "name": "stdout",
     "output_type": "stream",
     "text": [
      "[['a', 'b', 'c'], ['e', 'f', 'g'], ['h', 'i', 'j']]\n"
     ]
    }
   ],
   "source": [
    "# Written for testing purposes\n",
    "\n",
    "x = ['a', 'b', 'c']\n",
    "y = ['e', 'f', 'g']\n",
    "z = ['h', 'i', 'j']\n",
    "\n",
    "a = [x, y, z]\n",
    "print(a)"
   ]
  },
  {
   "cell_type": "code",
   "execution_count": 6,
   "metadata": {
    "execution": {
     "iopub.execute_input": "2021-07-10T13:15:03.334367Z",
     "iopub.status.busy": "2021-07-10T13:15:03.333357Z",
     "iopub.status.idle": "2021-07-10T13:15:03.336693Z",
     "shell.execute_reply": "2021-07-10T13:15:03.336038Z",
     "shell.execute_reply.started": "2021-07-10T12:58:49.314624Z"
    },
    "papermill": {
     "duration": 0.025819,
     "end_time": "2021-07-10T13:15:03.336843",
     "exception": false,
     "start_time": "2021-07-10T13:15:03.311024",
     "status": "completed"
    },
    "tags": []
   },
   "outputs": [],
   "source": [
    "# q2.hint()\n",
    "# q2.solution()"
   ]
  },
  {
   "cell_type": "markdown",
   "metadata": {
    "papermill": {
     "duration": 0.018283,
     "end_time": "2021-07-10T13:15:03.373847",
     "exception": false,
     "start_time": "2021-07-10T13:15:03.355564",
     "status": "completed"
    },
    "tags": []
   },
   "source": [
    "# 3.\n",
    "\n",
    "The next iteration of Mario Kart will feature an extra-infuriating new item, the *Purple Shell*. When used, it warps the last place racer into first place and the first place racer into last place. Complete the function below to implement the Purple Shell's effect."
   ]
  },
  {
   "cell_type": "code",
   "execution_count": 7,
   "metadata": {
    "execution": {
     "iopub.execute_input": "2021-07-10T13:15:03.417934Z",
     "iopub.status.busy": "2021-07-10T13:15:03.416899Z",
     "iopub.status.idle": "2021-07-10T13:15:03.423686Z",
     "shell.execute_reply": "2021-07-10T13:15:03.423021Z",
     "shell.execute_reply.started": "2021-07-10T12:58:49.356128Z"
    },
    "papermill": {
     "duration": 0.031469,
     "end_time": "2021-07-10T13:15:03.423838",
     "exception": false,
     "start_time": "2021-07-10T13:15:03.392369",
     "status": "completed"
    },
    "tags": []
   },
   "outputs": [
    {
     "data": {
      "application/javascript": [
       "parent.postMessage({\"jupyterEvent\": \"custom.exercise_interaction\", \"data\": {\"outcomeType\": 1, \"valueTowardsCompletion\": 0.2, \"interactionType\": 1, \"questionType\": 2, \"questionId\": \"3_PurpleShell\", \"learnToolsVersion\": \"0.3.4\", \"failureMessage\": \"\", \"exceptionClass\": \"\", \"trace\": \"\"}}, \"*\")"
      ],
      "text/plain": [
       "<IPython.core.display.Javascript object>"
      ]
     },
     "metadata": {},
     "output_type": "display_data"
    },
    {
     "data": {
      "text/markdown": [
       "<span style=\"color:#33cc33\">Correct</span>"
      ],
      "text/plain": [
       "Correct"
      ]
     },
     "metadata": {},
     "output_type": "display_data"
    }
   ],
   "source": [
    "def purple_shell(racers):\n",
    "    \"\"\"Given a list of racers, set the first place racer (at the front of the list) to last\n",
    "    place and vice versa.\n",
    "    \n",
    "    >>> r = [\"Mario\", \"Bowser\", \"Luigi\"]\n",
    "    >>> purple_shell(r)\n",
    "    >>> r\n",
    "    [\"Luigi\", \"Bowser\", \"Mario\"]\n",
    "    \"\"\"\n",
    "    tmp = racers[-1]\n",
    "    racers[-1] = racers[0]\n",
    "    racers[0] = tmp\n",
    "\n",
    "# Check your answer\n",
    "q3.check()"
   ]
  },
  {
   "cell_type": "code",
   "execution_count": 8,
   "metadata": {
    "execution": {
     "iopub.execute_input": "2021-07-10T13:15:03.468154Z",
     "iopub.status.busy": "2021-07-10T13:15:03.467485Z",
     "iopub.status.idle": "2021-07-10T13:15:03.471009Z",
     "shell.execute_reply": "2021-07-10T13:15:03.470413Z",
     "shell.execute_reply.started": "2021-07-10T12:58:51.578996Z"
    },
    "papermill": {
     "duration": 0.027931,
     "end_time": "2021-07-10T13:15:03.471161",
     "exception": false,
     "start_time": "2021-07-10T13:15:03.443230",
     "status": "completed"
    },
    "tags": []
   },
   "outputs": [
    {
     "name": "stdout",
     "output_type": "stream",
     "text": [
      "['Luigi', 'Bowser', 'Mario']\n"
     ]
    }
   ],
   "source": [
    "# Written for testing purposes\n",
    "\n",
    "racers = [\"Mario\", \"Bowser\", \"Luigi\"]\n",
    "\n",
    "tmp = racers[-1]\n",
    "racers[-1] = racers[0]\n",
    "racers[0] = tmp\n",
    "\n",
    "print(racers)"
   ]
  },
  {
   "cell_type": "code",
   "execution_count": 9,
   "metadata": {
    "execution": {
     "iopub.execute_input": "2021-07-10T13:15:03.514757Z",
     "iopub.status.busy": "2021-07-10T13:15:03.514081Z",
     "iopub.status.idle": "2021-07-10T13:15:03.517618Z",
     "shell.execute_reply": "2021-07-10T13:15:03.517022Z",
     "shell.execute_reply.started": "2021-07-10T12:58:51.702024Z"
    },
    "papermill": {
     "duration": 0.026979,
     "end_time": "2021-07-10T13:15:03.517763",
     "exception": false,
     "start_time": "2021-07-10T13:15:03.490784",
     "status": "completed"
    },
    "tags": []
   },
   "outputs": [],
   "source": [
    "# q3.hint()\n",
    "# q3.solution()"
   ]
  },
  {
   "cell_type": "markdown",
   "metadata": {
    "papermill": {
     "duration": 0.019544,
     "end_time": "2021-07-10T13:15:03.557086",
     "exception": false,
     "start_time": "2021-07-10T13:15:03.537542",
     "status": "completed"
    },
    "tags": []
   },
   "source": [
    "# 4.\n",
    "\n",
    "What are the lengths of the following lists? Fill in the variable `lengths` with your predictions. (Try to make a prediction for each list *without* just calling `len()` on it.)"
   ]
  },
  {
   "cell_type": "code",
   "execution_count": 10,
   "metadata": {
    "execution": {
     "iopub.execute_input": "2021-07-10T13:15:03.611464Z",
     "iopub.status.busy": "2021-07-10T13:15:03.610466Z",
     "iopub.status.idle": "2021-07-10T13:15:03.616478Z",
     "shell.execute_reply": "2021-07-10T13:15:03.614148Z",
     "shell.execute_reply.started": "2021-07-10T12:58:51.726755Z"
    },
    "papermill": {
     "duration": 0.040138,
     "end_time": "2021-07-10T13:15:03.616636",
     "exception": false,
     "start_time": "2021-07-10T13:15:03.576498",
     "status": "completed"
    },
    "tags": []
   },
   "outputs": [
    {
     "data": {
      "application/javascript": [
       "parent.postMessage({\"jupyterEvent\": \"custom.exercise_interaction\", \"data\": {\"outcomeType\": 1, \"valueTowardsCompletion\": 0.2, \"interactionType\": 1, \"questionType\": 1, \"questionId\": \"4_UnderstandLen\", \"learnToolsVersion\": \"0.3.4\", \"failureMessage\": \"\", \"exceptionClass\": \"\", \"trace\": \"\"}}, \"*\")"
      ],
      "text/plain": [
       "<IPython.core.display.Javascript object>"
      ]
     },
     "metadata": {},
     "output_type": "display_data"
    },
    {
     "data": {
      "text/markdown": [
       "<span style=\"color:#33cc33\">Correct:</span> \n",
       "\n",
       "\n",
       "- a: There are three items in this list. Nothing tricky yet.\n",
       "- b: The list `[2, 3]` counts as a single item. It has one item before it. So we have 2 items in the list\n",
       "- c: The empty list has 0 items\n",
       "- d: The expression is the same as the list `[2, 3]`, which has length 2."
      ],
      "text/plain": [
       "Correct: \n",
       "\n",
       "\n",
       "- a: There are three items in this list. Nothing tricky yet.\n",
       "- b: The list `[2, 3]` counts as a single item. It has one item before it. So we have 2 items in the list\n",
       "- c: The empty list has 0 items\n",
       "- d: The expression is the same as the list `[2, 3]`, which has length 2."
      ]
     },
     "metadata": {},
     "output_type": "display_data"
    }
   ],
   "source": [
    "a = [1, 2, 3]\n",
    "b = [1, [2, 3]]\n",
    "c = []\n",
    "d = [1, 2, 3][1:]\n",
    "\n",
    "# Put your predictions in the list below. Lengths should contain 4 numbers, the\n",
    "# first being the length of a, the second being the length of b and so on.\n",
    "lengths = [3, 2, 0, 2]\n",
    "\n",
    "# Check your answer\n",
    "q4.check()"
   ]
  },
  {
   "cell_type": "code",
   "execution_count": 11,
   "metadata": {
    "execution": {
     "iopub.execute_input": "2021-07-10T13:15:03.674084Z",
     "iopub.status.busy": "2021-07-10T13:15:03.672965Z",
     "iopub.status.idle": "2021-07-10T13:15:03.678493Z",
     "shell.execute_reply": "2021-07-10T13:15:03.677602Z",
     "shell.execute_reply.started": "2021-07-10T12:58:51.740441Z"
    },
    "papermill": {
     "duration": 0.033056,
     "end_time": "2021-07-10T13:15:03.678700",
     "exception": false,
     "start_time": "2021-07-10T13:15:03.645644",
     "status": "completed"
    },
    "tags": []
   },
   "outputs": [],
   "source": [
    "# line below provides some explanation\n",
    "# q4.solution()"
   ]
  },
  {
   "cell_type": "markdown",
   "metadata": {
    "papermill": {
     "duration": 0.020206,
     "end_time": "2021-07-10T13:15:03.723629",
     "exception": false,
     "start_time": "2021-07-10T13:15:03.703423",
     "status": "completed"
    },
    "tags": []
   },
   "source": [
    "# 5. <span title=\"A bit spicy\" style=\"color: darkgreen \">🌶️</span>\n",
    "\n",
    "We're using lists to record people who attended our party and what order they arrived in. For example, the following list represents a party with 7 guests, in which Adela showed up first and Ford was the last to arrive:\n",
    "\n",
    "    party_attendees = ['Adela', 'Fleda', 'Owen', 'May', 'Mona', 'Gilbert', 'Ford']\n",
    "\n",
    "A guest is considered 'fashionably late' if they arrived after at least half of the party's guests. However, they must not be the very last guest (that's taking it too far). In the above example, Mona and Gilbert are the only guests who were fashionably late.\n",
    "\n",
    "Complete the function below which takes a list of party attendees as well as a person, and tells us whether that person is fashionably late."
   ]
  },
  {
   "cell_type": "code",
   "execution_count": 12,
   "metadata": {
    "execution": {
     "iopub.execute_input": "2021-07-10T13:15:03.772404Z",
     "iopub.status.busy": "2021-07-10T13:15:03.771647Z",
     "iopub.status.idle": "2021-07-10T13:15:03.777562Z",
     "shell.execute_reply": "2021-07-10T13:15:03.776924Z",
     "shell.execute_reply.started": "2021-07-10T12:58:51.750522Z"
    },
    "papermill": {
     "duration": 0.032431,
     "end_time": "2021-07-10T13:15:03.777701",
     "exception": false,
     "start_time": "2021-07-10T13:15:03.745270",
     "status": "completed"
    },
    "tags": []
   },
   "outputs": [
    {
     "data": {
      "application/javascript": [
       "parent.postMessage({\"jupyterEvent\": \"custom.exercise_interaction\", \"data\": {\"outcomeType\": 1, \"valueTowardsCompletion\": 0.2, \"interactionType\": 1, \"questionType\": 2, \"questionId\": \"5_FashionablyLate\", \"learnToolsVersion\": \"0.3.4\", \"failureMessage\": \"\", \"exceptionClass\": \"\", \"trace\": \"\"}}, \"*\")"
      ],
      "text/plain": [
       "<IPython.core.display.Javascript object>"
      ]
     },
     "metadata": {},
     "output_type": "display_data"
    },
    {
     "data": {
      "text/markdown": [
       "<span style=\"color:#33cc33\">Correct</span>"
      ],
      "text/plain": [
       "Correct"
      ]
     },
     "metadata": {},
     "output_type": "display_data"
    }
   ],
   "source": [
    "def fashionably_late(arrivals, name):\n",
    "    \"\"\"Given an ordered list of arrivals to the party and a name, return whether the guest with that\n",
    "    name was fashionably late.\n",
    "    \"\"\"\n",
    "    order = arrivals.index(name)\n",
    "    return order >= len(arrivals) / 2 and order != len(arrivals) - 1\n",
    "\n",
    "# Check your answer\n",
    "q5.check()"
   ]
  },
  {
   "cell_type": "code",
   "execution_count": 13,
   "metadata": {
    "execution": {
     "iopub.execute_input": "2021-07-10T13:15:03.824211Z",
     "iopub.status.busy": "2021-07-10T13:15:03.823565Z",
     "iopub.status.idle": "2021-07-10T13:15:03.827214Z",
     "shell.execute_reply": "2021-07-10T13:15:03.827801Z",
     "shell.execute_reply.started": "2021-07-10T12:58:51.770318Z"
    },
    "papermill": {
     "duration": 0.028477,
     "end_time": "2021-07-10T13:15:03.827968",
     "exception": false,
     "start_time": "2021-07-10T13:15:03.799491",
     "status": "completed"
    },
    "tags": []
   },
   "outputs": [],
   "source": [
    "# q5.hint()\n",
    "# q5.solution()"
   ]
  }
 ],
 "metadata": {
  "kernelspec": {
   "display_name": "Python 3",
   "language": "python",
   "name": "python3"
  },
  "language_info": {
   "codemirror_mode": {
    "name": "ipython",
    "version": 3
   },
   "file_extension": ".py",
   "mimetype": "text/x-python",
   "name": "python",
   "nbconvert_exporter": "python",
   "pygments_lexer": "ipython3",
   "version": "3.8.3"
  },
  "papermill": {
   "default_parameters": {},
   "duration": 10.483831,
   "end_time": "2021-07-10T13:15:04.646917",
   "environment_variables": {},
   "exception": null,
   "input_path": "__notebook__.ipynb",
   "output_path": "__notebook__.ipynb",
   "parameters": {},
   "start_time": "2021-07-10T13:14:54.163086",
   "version": "2.3.3"
  }
 },
 "nbformat": 4,
 "nbformat_minor": 5
}
