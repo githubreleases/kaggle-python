{
 "cells": [
  {
   "cell_type": "markdown",
   "metadata": {
    "papermill": {
     "duration": 0.029343,
     "end_time": "2021-07-10T13:14:40.853893",
     "exception": false,
     "start_time": "2021-07-10T13:14:40.824550",
     "status": "completed"
    },
    "tags": []
   },
   "source": [
    "In this exercise, you'll put to work what you have learned about booleans and conditionals.\n",
    "\n",
    "To get started, **run the setup code below** before writing your own code (and if you leave this notebook and come back later, don't forget to run the setup code again)."
   ]
  },
  {
   "cell_type": "code",
   "execution_count": 1,
   "metadata": {
    "execution": {
     "iopub.execute_input": "2021-07-10T13:14:40.922769Z",
     "iopub.status.busy": "2021-07-10T13:14:40.921696Z",
     "iopub.status.idle": "2021-07-10T13:14:41.110882Z",
     "shell.execute_reply": "2021-07-10T13:14:41.111394Z",
     "shell.execute_reply.started": "2021-07-10T12:39:33.408817Z"
    },
    "papermill": {
     "duration": 0.228337,
     "end_time": "2021-07-10T13:14:41.111767",
     "exception": false,
     "start_time": "2021-07-10T13:14:40.883430",
     "status": "completed"
    },
    "tags": []
   },
   "outputs": [
    {
     "name": "stdout",
     "output_type": "stream",
     "text": [
      "Setup complete.\n"
     ]
    }
   ],
   "source": [
    "from learntools.core import binder; binder.bind(globals())\n",
    "from learntools.python.ex3 import *\n",
    "print('Setup complete.')"
   ]
  },
  {
   "cell_type": "markdown",
   "metadata": {
    "papermill": {
     "duration": 0.029597,
     "end_time": "2021-07-10T13:14:41.171780",
     "exception": false,
     "start_time": "2021-07-10T13:14:41.142183",
     "status": "completed"
    },
    "tags": []
   },
   "source": [
    "# 1.\n",
    "\n",
    "Many programming languages have [`sign`](https://en.wikipedia.org/wiki/Sign_function) available as a built-in function. Python doesn't, but we can define our own!\n",
    "\n",
    "In the cell below, define a function called `sign` which takes a numerical argument and returns -1 if it's negative, 1 if it's positive, and 0 if it's 0."
   ]
  },
  {
   "cell_type": "code",
   "execution_count": 2,
   "metadata": {
    "execution": {
     "iopub.execute_input": "2021-07-10T13:14:41.241734Z",
     "iopub.status.busy": "2021-07-10T13:14:41.240876Z",
     "iopub.status.idle": "2021-07-10T13:14:41.247764Z",
     "shell.execute_reply": "2021-07-10T13:14:41.247107Z",
     "shell.execute_reply.started": "2021-07-10T12:39:33.602484Z"
    },
    "papermill": {
     "duration": 0.046324,
     "end_time": "2021-07-10T13:14:41.247927",
     "exception": false,
     "start_time": "2021-07-10T13:14:41.201603",
     "status": "completed"
    },
    "tags": []
   },
   "outputs": [
    {
     "data": {
      "application/javascript": [
       "parent.postMessage({\"jupyterEvent\": \"custom.exercise_interaction\", \"data\": {\"outcomeType\": 1, \"valueTowardsCompletion\": 0.2, \"interactionType\": 1, \"questionType\": 2, \"questionId\": \"1_SignFunctionProblem\", \"learnToolsVersion\": \"0.3.4\", \"failureMessage\": \"\", \"exceptionClass\": \"\", \"trace\": \"\"}}, \"*\")"
      ],
      "text/plain": [
       "<IPython.core.display.Javascript object>"
      ]
     },
     "metadata": {},
     "output_type": "display_data"
    },
    {
     "data": {
      "text/markdown": [
       "<span style=\"color:#33cc33\">Correct</span>"
      ],
      "text/plain": [
       "Correct"
      ]
     },
     "metadata": {},
     "output_type": "display_data"
    }
   ],
   "source": [
    "# Your code goes here. Define a function called 'sign'\n",
    "def sign(val):\n",
    "    if val > 0:\n",
    "        return 1\n",
    "    elif val < 0:\n",
    "        return -1\n",
    "    else:\n",
    "        return 0\n",
    "\n",
    "# Check your answer\n",
    "q1.check()"
   ]
  },
  {
   "cell_type": "code",
   "execution_count": 3,
   "metadata": {
    "execution": {
     "iopub.execute_input": "2021-07-10T13:14:41.316674Z",
     "iopub.status.busy": "2021-07-10T13:14:41.315583Z",
     "iopub.status.idle": "2021-07-10T13:14:41.319234Z",
     "shell.execute_reply": "2021-07-10T13:14:41.318643Z",
     "shell.execute_reply.started": "2021-07-10T12:39:33.615868Z"
    },
    "papermill": {
     "duration": 0.040787,
     "end_time": "2021-07-10T13:14:41.319400",
     "exception": false,
     "start_time": "2021-07-10T13:14:41.278613",
     "status": "completed"
    },
    "tags": []
   },
   "outputs": [],
   "source": [
    "# q1.solution()"
   ]
  },
  {
   "cell_type": "markdown",
   "metadata": {
    "papermill": {
     "duration": 0.030789,
     "end_time": "2021-07-10T13:14:41.382825",
     "exception": false,
     "start_time": "2021-07-10T13:14:41.352036",
     "status": "completed"
    },
    "tags": []
   },
   "source": [
    "# 2.\n",
    "\n",
    "We've decided to add \"logging\" to our `to_smash` function from the previous exercise."
   ]
  },
  {
   "cell_type": "code",
   "execution_count": 4,
   "metadata": {
    "execution": {
     "iopub.execute_input": "2021-07-10T13:14:41.452384Z",
     "iopub.status.busy": "2021-07-10T13:14:41.451289Z",
     "iopub.status.idle": "2021-07-10T13:14:41.456642Z",
     "shell.execute_reply": "2021-07-10T13:14:41.457154Z",
     "shell.execute_reply.started": "2021-07-10T12:39:33.626533Z"
    },
    "papermill": {
     "duration": 0.043089,
     "end_time": "2021-07-10T13:14:41.457358",
     "exception": false,
     "start_time": "2021-07-10T13:14:41.414269",
     "status": "completed"
    },
    "tags": []
   },
   "outputs": [
    {
     "name": "stdout",
     "output_type": "stream",
     "text": [
      "Splitting 91 candies\n"
     ]
    },
    {
     "data": {
      "text/plain": [
       "1"
      ]
     },
     "execution_count": 4,
     "metadata": {},
     "output_type": "execute_result"
    }
   ],
   "source": [
    "def to_smash(total_candies):\n",
    "    \"\"\"Return the number of leftover candies that must be smashed after distributing\n",
    "    the given number of candies evenly between 3 friends.\n",
    "    \n",
    "    >>> to_smash(91)\n",
    "    1\n",
    "    \"\"\"\n",
    "    print(\"Splitting\", total_candies, \"candies\")\n",
    "    return total_candies % 3\n",
    "\n",
    "to_smash(91)"
   ]
  },
  {
   "cell_type": "markdown",
   "metadata": {
    "papermill": {
     "duration": 0.030682,
     "end_time": "2021-07-10T13:14:41.519983",
     "exception": false,
     "start_time": "2021-07-10T13:14:41.489301",
     "status": "completed"
    },
    "tags": []
   },
   "source": [
    "What happens if we call it with `total_candies = 1`?"
   ]
  },
  {
   "cell_type": "code",
   "execution_count": 5,
   "metadata": {
    "execution": {
     "iopub.execute_input": "2021-07-10T13:14:41.587576Z",
     "iopub.status.busy": "2021-07-10T13:14:41.586564Z",
     "iopub.status.idle": "2021-07-10T13:14:41.591639Z",
     "shell.execute_reply": "2021-07-10T13:14:41.592141Z",
     "shell.execute_reply.started": "2021-07-10T12:39:33.642195Z"
    },
    "papermill": {
     "duration": 0.04114,
     "end_time": "2021-07-10T13:14:41.592324",
     "exception": false,
     "start_time": "2021-07-10T13:14:41.551184",
     "status": "completed"
    },
    "tags": []
   },
   "outputs": [
    {
     "name": "stdout",
     "output_type": "stream",
     "text": [
      "Splitting 1 candies\n"
     ]
    },
    {
     "data": {
      "text/plain": [
       "1"
      ]
     },
     "execution_count": 5,
     "metadata": {},
     "output_type": "execute_result"
    }
   ],
   "source": [
    "to_smash(1)"
   ]
  },
  {
   "cell_type": "markdown",
   "metadata": {
    "papermill": {
     "duration": 0.031421,
     "end_time": "2021-07-10T13:14:41.655526",
     "exception": false,
     "start_time": "2021-07-10T13:14:41.624105",
     "status": "completed"
    },
    "tags": []
   },
   "source": [
    "That isn't great grammar!\n",
    "\n",
    "Modify the definition in the cell below to correct the grammar of our print statement. (If there's only one candy, we should use the singular \"candy\" instead of the plural \"candies\")"
   ]
  },
  {
   "cell_type": "code",
   "execution_count": 6,
   "metadata": {
    "execution": {
     "iopub.execute_input": "2021-07-10T13:14:41.725807Z",
     "iopub.status.busy": "2021-07-10T13:14:41.723976Z",
     "iopub.status.idle": "2021-07-10T13:14:41.730595Z",
     "shell.execute_reply": "2021-07-10T13:14:41.731477Z",
     "shell.execute_reply.started": "2021-07-10T12:39:33.65836Z"
    },
    "papermill": {
     "duration": 0.044575,
     "end_time": "2021-07-10T13:14:41.731704",
     "exception": false,
     "start_time": "2021-07-10T13:14:41.687129",
     "status": "completed"
    },
    "tags": []
   },
   "outputs": [
    {
     "name": "stdout",
     "output_type": "stream",
     "text": [
      "Splitting 91 candies\n",
      "Splitting 1 candy\n"
     ]
    },
    {
     "data": {
      "text/plain": [
       "1"
      ]
     },
     "execution_count": 6,
     "metadata": {},
     "output_type": "execute_result"
    }
   ],
   "source": [
    "def to_smash(total_candies):\n",
    "    \"\"\"Return the number of leftover candies that must be smashed after distributing\n",
    "    the given number of candies evenly between 3 friends.\n",
    "    \n",
    "    >>> to_smash(91)\n",
    "    1\n",
    "    \"\"\"\n",
    "    if total_candies == 1:\n",
    "        print(\"Splitting 1 candy\")\n",
    "    else:\n",
    "        print(\"Splitting\", total_candies, \"candies\")\n",
    "    \n",
    "    return total_candies % 3\n",
    "\n",
    "to_smash(91)\n",
    "to_smash(1)"
   ]
  },
  {
   "cell_type": "markdown",
   "metadata": {
    "papermill": {
     "duration": 0.03234,
     "end_time": "2021-07-10T13:14:41.796530",
     "exception": false,
     "start_time": "2021-07-10T13:14:41.764190",
     "status": "completed"
    },
    "tags": []
   },
   "source": [
    "To get credit for completing this problem, and to see the official answer, run the code cell below."
   ]
  },
  {
   "cell_type": "code",
   "execution_count": 7,
   "metadata": {
    "execution": {
     "iopub.execute_input": "2021-07-10T13:14:41.868435Z",
     "iopub.status.busy": "2021-07-10T13:14:41.867587Z",
     "iopub.status.idle": "2021-07-10T13:14:41.872707Z",
     "shell.execute_reply": "2021-07-10T13:14:41.872126Z",
     "shell.execute_reply.started": "2021-07-10T12:39:33.671041Z"
    },
    "papermill": {
     "duration": 0.043042,
     "end_time": "2021-07-10T13:14:41.872886",
     "exception": false,
     "start_time": "2021-07-10T13:14:41.829844",
     "status": "completed"
    },
    "tags": []
   },
   "outputs": [
    {
     "data": {
      "application/javascript": [
       "parent.postMessage({\"jupyterEvent\": \"custom.exercise_interaction\", \"data\": {\"interactionType\": 3, \"questionType\": 4, \"questionId\": \"2_PluralizationProblem\", \"learnToolsVersion\": \"0.3.4\", \"valueTowardsCompletion\": 0.0, \"failureMessage\": \"\", \"exceptionClass\": \"\", \"trace\": \"\", \"outcomeType\": 4}}, \"*\")"
      ],
      "text/plain": [
       "<IPython.core.display.Javascript object>"
      ]
     },
     "metadata": {},
     "output_type": "display_data"
    },
    {
     "data": {
      "text/markdown": [
       "<span style=\"color:#33cc99\">Solution:</span> A straightforward (and totally fine) solution is to replace the original `print` call with:\n",
       "\n",
       "```python\n",
       "if total_candies == 1:\n",
       "    print(\"Splitting 1 candy\")\n",
       "else:\n",
       "    print(\"Splitting\", total_candies, \"candies\")\n",
       "```\n",
       "\n",
       "Here's a slightly more succinct solution using a conditional expression:\n",
       "\n",
       "```python\n",
       "print(\"Splitting\", total_candies, \"candy\" if total_candies == 1 else \"candies\")\n",
       "```"
      ],
      "text/plain": [
       "Solution: A straightforward (and totally fine) solution is to replace the original `print` call with:\n",
       "\n",
       "```python\n",
       "if total_candies == 1:\n",
       "    print(\"Splitting 1 candy\")\n",
       "else:\n",
       "    print(\"Splitting\", total_candies, \"candies\")\n",
       "```\n",
       "\n",
       "Here's a slightly more succinct solution using a conditional expression:\n",
       "\n",
       "```python\n",
       "print(\"Splitting\", total_candies, \"candy\" if total_candies == 1 else \"candies\")\n",
       "```"
      ]
     },
     "metadata": {},
     "output_type": "display_data"
    }
   ],
   "source": [
    "# Check your answer (Run this code cell to receive credit!)\n",
    "q2.solution()"
   ]
  },
  {
   "cell_type": "markdown",
   "metadata": {
    "papermill": {
     "duration": 0.033296,
     "end_time": "2021-07-10T13:14:41.940096",
     "exception": false,
     "start_time": "2021-07-10T13:14:41.906800",
     "status": "completed"
    },
    "tags": []
   },
   "source": [
    "# 3. <span title=\"A bit spicy\" style=\"color: darkgreen \">🌶️</span>\n",
    "\n",
    "In the tutorial, we talked about deciding whether we're prepared for the weather. I said that I'm safe from today's weather if:\n",
    "- I have an umbrella.\n",
    "- or if the rain isn't too heavy and I have a hood.\n",
    "- otherwise, I'm still fine unless it's raining *and* it's a workday\n",
    "\n",
    "The function below uses our first attempt at turning this logic into a Python expression. I claimed that there was a bug in that code. Can you find it?\n",
    "\n",
    "To prove that `prepared_for_weather` is buggy, come up with a set of inputs where either:\n",
    "- the function returns `False` (but should have returned `True`), or\n",
    "- the function returned `True` (but should have returned `False`).\n",
    "\n",
    "To get credit for completing this question, your code should return a <font color='#33cc33'>Correct</font> result."
   ]
  },
  {
   "cell_type": "code",
   "execution_count": 8,
   "metadata": {
    "execution": {
     "iopub.execute_input": "2021-07-10T13:14:42.015545Z",
     "iopub.status.busy": "2021-07-10T13:14:42.014701Z",
     "iopub.status.idle": "2021-07-10T13:14:42.022845Z",
     "shell.execute_reply": "2021-07-10T13:14:42.022163Z",
     "shell.execute_reply.started": "2021-07-10T12:39:33.688494Z"
    },
    "papermill": {
     "duration": 0.049515,
     "end_time": "2021-07-10T13:14:42.022993",
     "exception": false,
     "start_time": "2021-07-10T13:14:41.973478",
     "status": "completed"
    },
    "tags": []
   },
   "outputs": [
    {
     "name": "stdout",
     "output_type": "stream",
     "text": [
      "False\n"
     ]
    },
    {
     "data": {
      "application/javascript": [
       "parent.postMessage({\"jupyterEvent\": \"custom.exercise_interaction\", \"data\": {\"outcomeType\": 1, \"valueTowardsCompletion\": 0.2, \"interactionType\": 1, \"questionType\": 1, \"questionId\": \"3_WeatherDebug\", \"learnToolsVersion\": \"0.3.4\", \"failureMessage\": \"\", \"exceptionClass\": \"\", \"trace\": \"\"}}, \"*\")"
      ],
      "text/plain": [
       "<IPython.core.display.Javascript object>"
      ]
     },
     "metadata": {},
     "output_type": "display_data"
    },
    {
     "data": {
      "text/markdown": [
       "<span style=\"color:#33cc33\">Correct:</span> \n",
       "\n",
       "One example of a failing test case is:\n",
       "\n",
       "```python\n",
       "have_umbrella = False\n",
       "rain_level = 0.0\n",
       "have_hood = False\n",
       "is_workday = False\n",
       "```\n",
       "\n",
       "Clearly we're prepared for the weather in this case. It's not raining. Not only that, it's not a workday, so we don't even need to leave the house! But our function will return False on these inputs.\n",
       "\n",
       "The key problem is that Python implictly parenthesizes the last part as:\n",
       "\n",
       "```python\n",
       "(not (rain_level > 0)) and is_workday\n",
       "```\n",
       "\n",
       "Whereas what we were trying to express would look more like:\n",
       "\n",
       "```python\n",
       "not (rain_level > 0 and is_workday)\n",
       "```\n"
      ],
      "text/plain": [
       "Correct: \n",
       "\n",
       "One example of a failing test case is:\n",
       "\n",
       "```python\n",
       "have_umbrella = False\n",
       "rain_level = 0.0\n",
       "have_hood = False\n",
       "is_workday = False\n",
       "```\n",
       "\n",
       "Clearly we're prepared for the weather in this case. It's not raining. Not only that, it's not a workday, so we don't even need to leave the house! But our function will return False on these inputs.\n",
       "\n",
       "The key problem is that Python implictly parenthesizes the last part as:\n",
       "\n",
       "```python\n",
       "(not (rain_level > 0)) and is_workday\n",
       "```\n",
       "\n",
       "Whereas what we were trying to express would look more like:\n",
       "\n",
       "```python\n",
       "not (rain_level > 0 and is_workday)\n",
       "```"
      ]
     },
     "metadata": {},
     "output_type": "display_data"
    }
   ],
   "source": [
    "def prepared_for_weather(have_umbrella, rain_level, have_hood, is_workday):\n",
    "    # Don't change this code. Our goal is just to find the bug, not fix it!\n",
    "    return have_umbrella or rain_level < 5 and have_hood or not rain_level > 0 and is_workday\n",
    "\n",
    "# Change the values of these inputs so they represent a case where prepared_for_weather\n",
    "# returns the wrong answer.\n",
    "have_umbrella = False\n",
    "rain_level = 5.0\n",
    "have_hood = False\n",
    "is_workday = False\n",
    "\n",
    "# Check what the function returns given the current values of the variables above\n",
    "actual = prepared_for_weather(have_umbrella, rain_level, have_hood, is_workday)\n",
    "print(actual)\n",
    "\n",
    "# Check your answer\n",
    "q3.check()"
   ]
  },
  {
   "cell_type": "code",
   "execution_count": 9,
   "metadata": {
    "execution": {
     "iopub.execute_input": "2021-07-10T13:14:42.100036Z",
     "iopub.status.busy": "2021-07-10T13:14:42.098900Z",
     "iopub.status.idle": "2021-07-10T13:14:42.102256Z",
     "shell.execute_reply": "2021-07-10T13:14:42.101694Z",
     "shell.execute_reply.started": "2021-07-10T12:39:33.702483Z"
    },
    "papermill": {
     "duration": 0.042996,
     "end_time": "2021-07-10T13:14:42.102398",
     "exception": false,
     "start_time": "2021-07-10T13:14:42.059402",
     "status": "completed"
    },
    "tags": []
   },
   "outputs": [],
   "source": [
    "# q3.hint()\n",
    "# q3.solution()"
   ]
  },
  {
   "cell_type": "markdown",
   "metadata": {
    "papermill": {
     "duration": 0.034676,
     "end_time": "2021-07-10T13:14:42.171839",
     "exception": false,
     "start_time": "2021-07-10T13:14:42.137163",
     "status": "completed"
    },
    "tags": []
   },
   "source": [
    "# 4.\n",
    "\n",
    "The function `is_negative` below is implemented correctly - it returns True if the given number is negative and False otherwise.\n",
    "\n",
    "However, it's more verbose than it needs to be. We can actually reduce the number of lines of code in this function by *75%* while keeping the same behaviour. \n",
    "\n",
    "See if you can come up with an equivalent body that uses just **one line** of code, and put it in the function `concise_is_negative`. (HINT: you don't even need Python's ternary syntax)"
   ]
  },
  {
   "cell_type": "code",
   "execution_count": 10,
   "metadata": {
    "execution": {
     "iopub.execute_input": "2021-07-10T13:14:42.249174Z",
     "iopub.status.busy": "2021-07-10T13:14:42.248174Z",
     "iopub.status.idle": "2021-07-10T13:14:42.253907Z",
     "shell.execute_reply": "2021-07-10T13:14:42.253344Z",
     "shell.execute_reply.started": "2021-07-10T12:39:33.711711Z"
    },
    "papermill": {
     "duration": 0.046773,
     "end_time": "2021-07-10T13:14:42.254058",
     "exception": false,
     "start_time": "2021-07-10T13:14:42.207285",
     "status": "completed"
    },
    "tags": []
   },
   "outputs": [
    {
     "data": {
      "application/javascript": [
       "parent.postMessage({\"jupyterEvent\": \"custom.exercise_interaction\", \"data\": {\"outcomeType\": 1, \"valueTowardsCompletion\": 0.2, \"interactionType\": 1, \"questionType\": 2, \"questionId\": \"4_ConciseIsNegative\", \"learnToolsVersion\": \"0.3.4\", \"failureMessage\": \"\", \"exceptionClass\": \"\", \"trace\": \"\"}}, \"*\")"
      ],
      "text/plain": [
       "<IPython.core.display.Javascript object>"
      ]
     },
     "metadata": {},
     "output_type": "display_data"
    },
    {
     "data": {
      "text/markdown": [
       "<span style=\"color:#33cc33\">Correct</span>"
      ],
      "text/plain": [
       "Correct"
      ]
     },
     "metadata": {},
     "output_type": "display_data"
    }
   ],
   "source": [
    "def is_negative(number):\n",
    "    if number < 0:\n",
    "        return True\n",
    "    else:\n",
    "        return False\n",
    "\n",
    "def concise_is_negative(number):\n",
    "    # Your code goes here (try to keep it to one line!)\n",
    "    return number < 0\n",
    "\n",
    "# Check your answer\n",
    "q4.check()"
   ]
  },
  {
   "cell_type": "code",
   "execution_count": 11,
   "metadata": {
    "execution": {
     "iopub.execute_input": "2021-07-10T13:14:42.330177Z",
     "iopub.status.busy": "2021-07-10T13:14:42.329055Z",
     "iopub.status.idle": "2021-07-10T13:14:42.331581Z",
     "shell.execute_reply": "2021-07-10T13:14:42.332061Z",
     "shell.execute_reply.started": "2021-07-10T12:39:34.894879Z"
    },
    "papermill": {
     "duration": 0.042586,
     "end_time": "2021-07-10T13:14:42.332281",
     "exception": false,
     "start_time": "2021-07-10T13:14:42.289695",
     "status": "completed"
    },
    "tags": []
   },
   "outputs": [],
   "source": [
    "# q4.hint()\n",
    "# q4.solution()"
   ]
  },
  {
   "cell_type": "markdown",
   "metadata": {
    "papermill": {
     "duration": 0.037,
     "end_time": "2021-07-10T13:14:42.408037",
     "exception": false,
     "start_time": "2021-07-10T13:14:42.371037",
     "status": "completed"
    },
    "tags": []
   },
   "source": [
    "# 5a.\n",
    "\n",
    "The boolean variables `ketchup`, `mustard` and `onion` represent whether a customer wants a particular topping on their hot dog. We want to implement a number of boolean functions that correspond to some yes-or-no questions about the customer's order. For example:"
   ]
  },
  {
   "cell_type": "code",
   "execution_count": 12,
   "metadata": {
    "execution": {
     "iopub.execute_input": "2021-07-10T13:14:42.486207Z",
     "iopub.status.busy": "2021-07-10T13:14:42.485463Z",
     "iopub.status.idle": "2021-07-10T13:14:42.488829Z",
     "shell.execute_reply": "2021-07-10T13:14:42.488190Z",
     "shell.execute_reply.started": "2021-07-10T12:39:34.944572Z"
    },
    "papermill": {
     "duration": 0.044662,
     "end_time": "2021-07-10T13:14:42.488991",
     "exception": false,
     "start_time": "2021-07-10T13:14:42.444329",
     "status": "completed"
    },
    "tags": []
   },
   "outputs": [],
   "source": [
    "def onionless(ketchup, mustard, onion):\n",
    "    \"\"\"Return whether the customer doesn't want onions.\n",
    "    \"\"\"\n",
    "    return not onion"
   ]
  },
  {
   "cell_type": "code",
   "execution_count": 13,
   "metadata": {
    "execution": {
     "iopub.execute_input": "2021-07-10T13:14:42.569202Z",
     "iopub.status.busy": "2021-07-10T13:14:42.568359Z",
     "iopub.status.idle": "2021-07-10T13:14:42.573876Z",
     "shell.execute_reply": "2021-07-10T13:14:42.573221Z",
     "shell.execute_reply.started": "2021-07-10T12:39:34.97177Z"
    },
    "papermill": {
     "duration": 0.048523,
     "end_time": "2021-07-10T13:14:42.574037",
     "exception": false,
     "start_time": "2021-07-10T13:14:42.525514",
     "status": "completed"
    },
    "tags": []
   },
   "outputs": [
    {
     "data": {
      "application/javascript": [
       "parent.postMessage({\"jupyterEvent\": \"custom.exercise_interaction\", \"data\": {\"outcomeType\": 1, \"valueTowardsCompletion\": 0.2, \"interactionType\": 1, \"questionType\": 2, \"questionId\": \"5.1_AllToppings\", \"learnToolsVersion\": \"0.3.4\", \"failureMessage\": \"\", \"exceptionClass\": \"\", \"trace\": \"\"}}, \"*\")"
      ],
      "text/plain": [
       "<IPython.core.display.Javascript object>"
      ]
     },
     "metadata": {},
     "output_type": "display_data"
    },
    {
     "data": {
      "text/markdown": [
       "<span style=\"color:#33cc33\">Correct</span>"
      ],
      "text/plain": [
       "Correct"
      ]
     },
     "metadata": {},
     "output_type": "display_data"
    }
   ],
   "source": [
    "def wants_all_toppings(ketchup=True, mustard=True, onion=True):\n",
    "    \"\"\"Return whether the customer wants \"the works\" (all 3 toppings)\n",
    "    \"\"\"\n",
    "    return ketchup and mustard and onion\n",
    "\n",
    "# Check your answer\n",
    "q5.a.check()"
   ]
  },
  {
   "cell_type": "code",
   "execution_count": 14,
   "metadata": {
    "execution": {
     "iopub.execute_input": "2021-07-10T13:14:42.653934Z",
     "iopub.status.busy": "2021-07-10T13:14:42.653140Z",
     "iopub.status.idle": "2021-07-10T13:14:42.656047Z",
     "shell.execute_reply": "2021-07-10T13:14:42.655336Z",
     "shell.execute_reply.started": "2021-07-10T12:39:34.981598Z"
    },
    "papermill": {
     "duration": 0.04471,
     "end_time": "2021-07-10T13:14:42.656210",
     "exception": false,
     "start_time": "2021-07-10T13:14:42.611500",
     "status": "completed"
    },
    "tags": []
   },
   "outputs": [],
   "source": [
    "# q5.a.hint()\n",
    "# q5.a.solution()"
   ]
  },
  {
   "cell_type": "markdown",
   "metadata": {
    "papermill": {
     "duration": 0.036818,
     "end_time": "2021-07-10T13:14:42.731407",
     "exception": false,
     "start_time": "2021-07-10T13:14:42.694589",
     "status": "completed"
    },
    "tags": []
   },
   "source": [
    "# 5b.\n",
    "\n",
    "For the next function, fill in the body to match the English description in the docstring. "
   ]
  },
  {
   "cell_type": "code",
   "execution_count": 15,
   "metadata": {
    "execution": {
     "iopub.execute_input": "2021-07-10T13:14:42.814376Z",
     "iopub.status.busy": "2021-07-10T13:14:42.813631Z",
     "iopub.status.idle": "2021-07-10T13:14:42.819767Z",
     "shell.execute_reply": "2021-07-10T13:14:42.819202Z",
     "shell.execute_reply.started": "2021-07-10T12:39:35.341398Z"
    },
    "papermill": {
     "duration": 0.051525,
     "end_time": "2021-07-10T13:14:42.819930",
     "exception": false,
     "start_time": "2021-07-10T13:14:42.768405",
     "status": "completed"
    },
    "tags": []
   },
   "outputs": [
    {
     "data": {
      "application/javascript": [
       "parent.postMessage({\"jupyterEvent\": \"custom.exercise_interaction\", \"data\": {\"outcomeType\": 1, \"valueTowardsCompletion\": 0.2, \"interactionType\": 1, \"questionType\": 2, \"questionId\": \"5.2_PlainDog\", \"learnToolsVersion\": \"0.3.4\", \"failureMessage\": \"\", \"exceptionClass\": \"\", \"trace\": \"\"}}, \"*\")"
      ],
      "text/plain": [
       "<IPython.core.display.Javascript object>"
      ]
     },
     "metadata": {},
     "output_type": "display_data"
    },
    {
     "data": {
      "text/markdown": [
       "<span style=\"color:#33cc33\">Correct:</span> \n",
       "\n",
       "One solution looks like:\n",
       "```python\n",
       "return not ketchup and not mustard and not onion\n",
       "```\n",
       "\n",
       "We can also [\"factor out\" the nots](https://en.wikipedia.org/wiki/De_Morgan%27s_laws) to get:\n",
       "\n",
       "```python\n",
       "return not (ketchup or mustard or onion)\n",
       "```"
      ],
      "text/plain": [
       "Correct: \n",
       "\n",
       "One solution looks like:\n",
       "```python\n",
       "return not ketchup and not mustard and not onion\n",
       "```\n",
       "\n",
       "We can also [\"factor out\" the nots](https://en.wikipedia.org/wiki/De_Morgan%27s_laws) to get:\n",
       "\n",
       "```python\n",
       "return not (ketchup or mustard or onion)\n",
       "```"
      ]
     },
     "metadata": {},
     "output_type": "display_data"
    }
   ],
   "source": [
    "def wants_plain_hotdog(ketchup, mustard, onion):\n",
    "    \"\"\"Return whether the customer wants a plain hot dog with no toppings.\n",
    "    \"\"\"\n",
    "    return not (ketchup or mustard or onion)\n",
    "\n",
    "# Check your answer\n",
    "q5.b.check()"
   ]
  },
  {
   "cell_type": "code",
   "execution_count": 16,
   "metadata": {
    "execution": {
     "iopub.execute_input": "2021-07-10T13:14:42.900308Z",
     "iopub.status.busy": "2021-07-10T13:14:42.899659Z",
     "iopub.status.idle": "2021-07-10T13:14:42.903026Z",
     "shell.execute_reply": "2021-07-10T13:14:42.903579Z",
     "shell.execute_reply.started": "2021-07-10T12:39:35.365931Z"
    },
    "papermill": {
     "duration": 0.045129,
     "end_time": "2021-07-10T13:14:42.903802",
     "exception": false,
     "start_time": "2021-07-10T13:14:42.858673",
     "status": "completed"
    },
    "tags": []
   },
   "outputs": [],
   "source": [
    "# q5.b.hint()\n",
    "# q5.b.solution()"
   ]
  },
  {
   "cell_type": "markdown",
   "metadata": {
    "papermill": {
     "duration": 0.038157,
     "end_time": "2021-07-10T13:14:42.980763",
     "exception": false,
     "start_time": "2021-07-10T13:14:42.942606",
     "status": "completed"
    },
    "tags": []
   },
   "source": [
    "# 5c.\n",
    "\n",
    "You know what to do: for the next function, fill in the body to match the English description in the docstring."
   ]
  },
  {
   "cell_type": "code",
   "execution_count": 17,
   "metadata": {
    "execution": {
     "iopub.execute_input": "2021-07-10T13:14:43.062892Z",
     "iopub.status.busy": "2021-07-10T13:14:43.062225Z",
     "iopub.status.idle": "2021-07-10T13:14:43.069830Z",
     "shell.execute_reply": "2021-07-10T13:14:43.070340Z",
     "shell.execute_reply.started": "2021-07-10T12:39:35.372677Z"
    },
    "papermill": {
     "duration": 0.049864,
     "end_time": "2021-07-10T13:14:43.070537",
     "exception": false,
     "start_time": "2021-07-10T13:14:43.020673",
     "status": "completed"
    },
    "tags": []
   },
   "outputs": [
    {
     "data": {
      "application/javascript": [
       "parent.postMessage({\"jupyterEvent\": \"custom.exercise_interaction\", \"data\": {\"outcomeType\": 1, \"valueTowardsCompletion\": 0.2, \"interactionType\": 1, \"questionType\": 2, \"questionId\": \"5.3_OneSauce\", \"learnToolsVersion\": \"0.3.4\", \"failureMessage\": \"\", \"exceptionClass\": \"\", \"trace\": \"\"}}, \"*\")"
      ],
      "text/plain": [
       "<IPython.core.display.Javascript object>"
      ]
     },
     "metadata": {},
     "output_type": "display_data"
    },
    {
     "data": {
      "text/markdown": [
       "<span style=\"color:#33cc33\">Correct</span>"
      ],
      "text/plain": [
       "Correct"
      ]
     },
     "metadata": {},
     "output_type": "display_data"
    }
   ],
   "source": [
    "\n",
    "def exactly_one_sauce(ketchup, mustard, onion):\n",
    "    \"\"\"Return whether the customer wants either ketchup or mustard, but not both.\n",
    "    (You may be familiar with this operation under the name \"exclusive or\")\n",
    "    \"\"\"\n",
    "    return (ketchup and not mustard) or (mustard and not ketchup)\n",
    "\n",
    "# Check your answer\n",
    "q5.c.check()"
   ]
  },
  {
   "cell_type": "code",
   "execution_count": 18,
   "metadata": {
    "execution": {
     "iopub.execute_input": "2021-07-10T13:14:43.155302Z",
     "iopub.status.busy": "2021-07-10T13:14:43.154522Z",
     "iopub.status.idle": "2021-07-10T13:14:43.156307Z",
     "shell.execute_reply": "2021-07-10T13:14:43.156836Z",
     "shell.execute_reply.started": "2021-07-10T12:39:35.390053Z"
    },
    "papermill": {
     "duration": 0.047041,
     "end_time": "2021-07-10T13:14:43.157033",
     "exception": false,
     "start_time": "2021-07-10T13:14:43.109992",
     "status": "completed"
    },
    "tags": []
   },
   "outputs": [],
   "source": [
    "# q5.c.hint()\n",
    "# q5.c.solution()"
   ]
  },
  {
   "cell_type": "markdown",
   "metadata": {
    "papermill": {
     "duration": 0.039004,
     "end_time": "2021-07-10T13:14:43.235326",
     "exception": false,
     "start_time": "2021-07-10T13:14:43.196322",
     "status": "completed"
    },
    "tags": []
   },
   "source": [
    "# 6. <span title=\"A bit spicy\" style=\"color: darkgreen \">🌶️</span>\n",
    "\n",
    "We’ve seen that calling `bool()` on an integer returns `False` if it’s equal to 0 and `True` otherwise. What happens if we call `int()` on a bool? Try it out in the notebook cell below.\n",
    "\n",
    "Can you take advantage of this to write a succinct function that corresponds to the English sentence \"does the customer want exactly one topping?\"?"
   ]
  },
  {
   "cell_type": "code",
   "execution_count": 19,
   "metadata": {
    "execution": {
     "iopub.execute_input": "2021-07-10T13:14:43.317830Z",
     "iopub.status.busy": "2021-07-10T13:14:43.317100Z",
     "iopub.status.idle": "2021-07-10T13:14:43.325174Z",
     "shell.execute_reply": "2021-07-10T13:14:43.325685Z",
     "shell.execute_reply.started": "2021-07-10T12:39:35.397166Z"
    },
    "papermill": {
     "duration": 0.051398,
     "end_time": "2021-07-10T13:14:43.325910",
     "exception": false,
     "start_time": "2021-07-10T13:14:43.274512",
     "status": "completed"
    },
    "tags": []
   },
   "outputs": [
    {
     "data": {
      "application/javascript": [
       "parent.postMessage({\"jupyterEvent\": \"custom.exercise_interaction\", \"data\": {\"outcomeType\": 1, \"valueTowardsCompletion\": 0.2, \"interactionType\": 1, \"questionType\": 2, \"questionId\": \"6_OneTopping\", \"learnToolsVersion\": \"0.3.4\", \"failureMessage\": \"\", \"exceptionClass\": \"\", \"trace\": \"\"}}, \"*\")"
      ],
      "text/plain": [
       "<IPython.core.display.Javascript object>"
      ]
     },
     "metadata": {},
     "output_type": "display_data"
    },
    {
     "data": {
      "text/markdown": [
       "<span style=\"color:#33cc33\">Correct:</span> \n",
       "\n",
       "This condition would be pretty complicated to express using just `and`, `or` and `not`, but using boolean-to-integer conversion gives us this short solution:\n",
       "```python\n",
       "return (int(ketchup) + int(mustard) + int(onion)) == 1\n",
       "```\n",
       "\n",
       "Fun fact: we don't technically need to call `int` on the arguments. Just by doing addition with booleans, Python implicitly does the integer conversion. So we could also write...\n",
       "\n",
       "```python\n",
       "return (ketchup + mustard + onion) == 1\n",
       "```"
      ],
      "text/plain": [
       "Correct: \n",
       "\n",
       "This condition would be pretty complicated to express using just `and`, `or` and `not`, but using boolean-to-integer conversion gives us this short solution:\n",
       "```python\n",
       "return (int(ketchup) + int(mustard) + int(onion)) == 1\n",
       "```\n",
       "\n",
       "Fun fact: we don't technically need to call `int` on the arguments. Just by doing addition with booleans, Python implicitly does the integer conversion. So we could also write...\n",
       "\n",
       "```python\n",
       "return (ketchup + mustard + onion) == 1\n",
       "```"
      ]
     },
     "metadata": {},
     "output_type": "display_data"
    }
   ],
   "source": [
    "def exactly_one_topping(ketchup, mustard, onion):\n",
    "    \"\"\"Return whether the customer wants exactly one of the three available toppings\n",
    "    on their hot dog.\n",
    "    \"\"\"\n",
    "    return (int(ketchup) + int(mustard) + int(onion)) == 1\n",
    "\n",
    "# Check your answer\n",
    "q6.check()"
   ]
  },
  {
   "cell_type": "code",
   "execution_count": 20,
   "metadata": {
    "execution": {
     "iopub.execute_input": "2021-07-10T13:14:43.411313Z",
     "iopub.status.busy": "2021-07-10T13:14:43.410513Z",
     "iopub.status.idle": "2021-07-10T13:14:43.414057Z",
     "shell.execute_reply": "2021-07-10T13:14:43.414601Z",
     "shell.execute_reply.started": "2021-07-10T12:39:35.413411Z"
    },
    "papermill": {
     "duration": 0.04782,
     "end_time": "2021-07-10T13:14:43.414827",
     "exception": false,
     "start_time": "2021-07-10T13:14:43.367007",
     "status": "completed"
    },
    "tags": []
   },
   "outputs": [],
   "source": [
    "# q6.hint()\n",
    "# q6.solution()"
   ]
  },
  {
   "cell_type": "markdown",
   "metadata": {
    "papermill": {
     "duration": 0.039707,
     "end_time": "2021-07-10T13:14:43.494989",
     "exception": false,
     "start_time": "2021-07-10T13:14:43.455282",
     "status": "completed"
    },
    "tags": []
   },
   "source": [
    "# 7. <span title=\"A bit spicy\" style=\"color: darkgreen \">🌶️</span> (Optional)\n",
    "\n",
    "In this problem we'll be working with a simplified version of [blackjack](https://en.wikipedia.org/wiki/Blackjack) (aka twenty-one). In this version there is one player (who you'll control) and a dealer. Play proceeds as follows:\n",
    "\n",
    "- The player is dealt two face-up cards. The dealer is dealt one face-up card.\n",
    "- The player may ask to be dealt another card ('hit') as many times as they wish. If the sum of their cards exceeds 21, they lose the round immediately.\n",
    "- The dealer then deals additional cards to himself until either:\n",
    "    - the sum of the dealer's cards exceeds 21, in which case the player wins the round\n",
    "    - the sum of the dealer's cards is greater than or equal to 17. If the player's total is greater than the dealer's, the player wins. Otherwise, the dealer wins (even in case of a tie).\n",
    "    \n",
    "When calculating the sum of cards, Jack, Queen, and King count for 10. Aces can count as 1 or 11 (when referring to a player's \"total\" above, we mean the largest total that can be made without exceeding 21. So e.g. A+8 = 19, A+8+8 = 17)\n",
    "\n",
    "For this problem, you'll write a function representing the player's decision-making strategy in this game. We've provided a very unintelligent implementation below:"
   ]
  },
  {
   "cell_type": "code",
   "execution_count": 21,
   "metadata": {
    "execution": {
     "iopub.execute_input": "2021-07-10T13:14:43.579474Z",
     "iopub.status.busy": "2021-07-10T13:14:43.578749Z",
     "iopub.status.idle": "2021-07-10T13:14:43.582912Z",
     "shell.execute_reply": "2021-07-10T13:14:43.583419Z",
     "shell.execute_reply.started": "2021-07-10T12:39:35.4227Z"
    },
    "papermill": {
     "duration": 0.048302,
     "end_time": "2021-07-10T13:14:43.583633",
     "exception": false,
     "start_time": "2021-07-10T13:14:43.535331",
     "status": "completed"
    },
    "tags": []
   },
   "outputs": [],
   "source": [
    "def should_hit(dealer_total, player_total, player_low_aces, player_high_aces):\n",
    "    \"\"\"Return True if the player should hit (request another card) given the current game\n",
    "    state, or False if the player should stay.\n",
    "    When calculating a hand's total value, we count aces as \"high\" (with value 11) if doing so\n",
    "    doesn't bring the total above 21, otherwise we count them as low (with value 1). \n",
    "    For example, if the player's hand is {A, A, A, 7}, we will count it as 11 + 1 + 1 + 7,\n",
    "    and therefore set player_total=20, player_low_aces=2, player_high_aces=1.\n",
    "    \"\"\"\n",
    "    return False"
   ]
  },
  {
   "cell_type": "markdown",
   "metadata": {
    "papermill": {
     "duration": 0.040584,
     "end_time": "2021-07-10T13:14:43.664692",
     "exception": false,
     "start_time": "2021-07-10T13:14:43.624108",
     "status": "completed"
    },
    "tags": []
   },
   "source": [
    "This very conservative agent *always* sticks with the hand of two cards that they're dealt.\n",
    "\n",
    "We'll be simulating games between your player agent and our own dealer agent by calling your function.\n",
    "\n",
    "Try running the function below to see an example of a simulated game:"
   ]
  },
  {
   "cell_type": "code",
   "execution_count": 22,
   "metadata": {
    "execution": {
     "iopub.execute_input": "2021-07-10T13:14:43.749528Z",
     "iopub.status.busy": "2021-07-10T13:14:43.748880Z",
     "iopub.status.idle": "2021-07-10T13:14:43.757361Z",
     "shell.execute_reply": "2021-07-10T13:14:43.756774Z",
     "shell.execute_reply.started": "2021-07-10T12:39:35.434769Z"
    },
    "papermill": {
     "duration": 0.052449,
     "end_time": "2021-07-10T13:14:43.757527",
     "exception": false,
     "start_time": "2021-07-10T13:14:43.705078",
     "status": "completed"
    },
    "tags": []
   },
   "outputs": [
    {
     "name": "stdout",
     "output_type": "stream",
     "text": [
      "Player starts with 9 and 2 (total = 11)\n",
      "Dealer starts with 7\n",
      "\n",
      "__Player's turn__\n",
      "Player stays\n",
      "\n",
      "__Dealer's turn__\n",
      "Dealer hits and receives 4. (total = 11)\n",
      "Dealer hits and receives 9. (total = 20)\n",
      "Dealer stands.\n",
      "Dealer wins. 20 >= 11\n"
     ]
    }
   ],
   "source": [
    "q7.simulate_one_game()"
   ]
  },
  {
   "cell_type": "markdown",
   "metadata": {
    "papermill": {
     "duration": 0.041101,
     "end_time": "2021-07-10T13:14:43.839391",
     "exception": false,
     "start_time": "2021-07-10T13:14:43.798290",
     "status": "completed"
    },
    "tags": []
   },
   "source": [
    "The real test of your agent's mettle is their average win rate over many games. Try calling the function below to simulate 50000 games of blackjack (it may take a couple seconds):"
   ]
  },
  {
   "cell_type": "code",
   "execution_count": 23,
   "metadata": {
    "execution": {
     "iopub.execute_input": "2021-07-10T13:14:43.924428Z",
     "iopub.status.busy": "2021-07-10T13:14:43.923401Z",
     "iopub.status.idle": "2021-07-10T13:14:45.927401Z",
     "shell.execute_reply": "2021-07-10T13:14:45.926668Z",
     "shell.execute_reply.started": "2021-07-10T12:39:35.454483Z"
    },
    "papermill": {
     "duration": 2.047679,
     "end_time": "2021-07-10T13:14:45.927584",
     "exception": false,
     "start_time": "2021-07-10T13:14:43.879905",
     "status": "completed"
    },
    "tags": []
   },
   "outputs": [
    {
     "name": "stdout",
     "output_type": "stream",
     "text": [
      "Player won 19051 out of 50000 games (win rate = 38.1%)\n"
     ]
    }
   ],
   "source": [
    "q7.simulate(n_games=50000)"
   ]
  },
  {
   "cell_type": "markdown",
   "metadata": {
    "papermill": {
     "duration": 0.041796,
     "end_time": "2021-07-10T13:14:46.010353",
     "exception": false,
     "start_time": "2021-07-10T13:14:45.968557",
     "status": "completed"
    },
    "tags": []
   },
   "source": [
    "Our dumb agent that completely ignores the game state still manages to win shockingly often!\n",
    "\n",
    "Try adding some more smarts to the `should_hit` function and see how it affects the results."
   ]
  },
  {
   "cell_type": "code",
   "execution_count": 24,
   "metadata": {
    "execution": {
     "iopub.execute_input": "2021-07-10T13:14:46.139128Z",
     "iopub.status.busy": "2021-07-10T13:14:46.112666Z",
     "iopub.status.idle": "2021-07-10T13:14:48.357356Z",
     "shell.execute_reply": "2021-07-10T13:14:48.356688Z",
     "shell.execute_reply.started": "2021-07-10T12:39:37.472063Z"
    },
    "papermill": {
     "duration": 2.30619,
     "end_time": "2021-07-10T13:14:48.357549",
     "exception": false,
     "start_time": "2021-07-10T13:14:46.051359",
     "status": "completed"
    },
    "tags": []
   },
   "outputs": [
    {
     "name": "stdout",
     "output_type": "stream",
     "text": [
      "Player won 21639 out of 50000 games (win rate = 43.3%)\n"
     ]
    }
   ],
   "source": [
    "def should_hit(dealer_total, player_total, player_low_aces, player_high_aces):\n",
    "    \"\"\"Return True if the player should hit (request another card) given the current game\n",
    "    state, or False if the player should stay.\n",
    "    When calculating a hand's total value, we count aces as \"high\" (with value 11) if doing so\n",
    "    doesn't bring the total above 21, otherwise we count them as low (with value 1). \n",
    "    For example, if the player's hand is {A, A, A, 7}, we will count it as 11 + 1 + 1 + 7,\n",
    "    and therefore set player_total=20, player_low_aces=2, player_high_aces=1.\n",
    "    \"\"\"\n",
    "    if player_high_aces:\n",
    "        return player_total <= 17 or (player_total == 18 and 8 <= dealer_total)\n",
    "    else:\n",
    "        if 2 <= dealer_total <= 6:\n",
    "            return player_total <= 11\n",
    "        elif dealer_total == 7:\n",
    "            return player_total <= 16\n",
    "        elif 8 <= dealer_total <= 9:\n",
    "            return player_total <= 15\n",
    "        elif dealer_total == 10:\n",
    "            return player_total <= 14\n",
    "        else:\n",
    "            return player_total <= 17\n",
    "\n",
    "q7.simulate(n_games=50000)"
   ]
  }
 ],
 "metadata": {
  "kernelspec": {
   "display_name": "Python 3",
   "language": "python",
   "name": "python3"
  },
  "language_info": {
   "codemirror_mode": {
    "name": "ipython",
    "version": 3
   },
   "file_extension": ".py",
   "mimetype": "text/x-python",
   "name": "python",
   "nbconvert_exporter": "python",
   "pygments_lexer": "ipython3",
   "version": "3.8.3"
  },
  "papermill": {
   "default_parameters": {},
   "duration": 18.057426,
   "end_time": "2021-07-10T13:14:49.815076",
   "environment_variables": {},
   "exception": null,
   "input_path": "__notebook__.ipynb",
   "output_path": "__notebook__.ipynb",
   "parameters": {},
   "start_time": "2021-07-10T13:14:31.757650",
   "version": "2.3.3"
  }
 },
 "nbformat": 4,
 "nbformat_minor": 5
}
