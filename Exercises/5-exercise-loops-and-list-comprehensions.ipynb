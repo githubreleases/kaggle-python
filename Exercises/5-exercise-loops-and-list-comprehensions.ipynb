{
 "cells": [
  {
   "cell_type": "markdown",
   "metadata": {
    "papermill": {
     "duration": 0.017347,
     "end_time": "2021-07-10T13:15:06.615976",
     "exception": false,
     "start_time": "2021-07-10T13:15:06.598629",
     "status": "completed"
    },
    "tags": []
   },
   "source": [
    "With all you've learned, you can start writing much more interesting programs. See if you can solve the problems below.\n",
    "\n",
    "As always, run the setup code below before working on the questions."
   ]
  },
  {
   "cell_type": "code",
   "execution_count": 1,
   "metadata": {
    "execution": {
     "iopub.execute_input": "2021-07-10T13:15:06.663549Z",
     "iopub.status.busy": "2021-07-10T13:15:06.662856Z",
     "iopub.status.idle": "2021-07-10T13:15:06.711778Z",
     "shell.execute_reply": "2021-07-10T13:15:06.710955Z",
     "shell.execute_reply.started": "2021-07-10T13:01:09.01705Z"
    },
    "papermill": {
     "duration": 0.078966,
     "end_time": "2021-07-10T13:15:06.711987",
     "exception": false,
     "start_time": "2021-07-10T13:15:06.633021",
     "status": "completed"
    },
    "tags": []
   },
   "outputs": [
    {
     "name": "stdout",
     "output_type": "stream",
     "text": [
      "Setup complete.\n"
     ]
    }
   ],
   "source": [
    "from learntools.core import binder; binder.bind(globals())\n",
    "from learntools.python.ex5 import *\n",
    "print('Setup complete.')"
   ]
  },
  {
   "cell_type": "markdown",
   "metadata": {
    "papermill": {
     "duration": 0.017504,
     "end_time": "2021-07-10T13:15:06.748504",
     "exception": false,
     "start_time": "2021-07-10T13:15:06.731000",
     "status": "completed"
    },
    "tags": []
   },
   "source": [
    "# 1.\n",
    "\n",
    "Have you ever felt debugging involved a bit of luck? The following program has a bug. Try to identify the bug and fix it."
   ]
  },
  {
   "cell_type": "code",
   "execution_count": 2,
   "metadata": {
    "execution": {
     "iopub.execute_input": "2021-07-10T13:15:06.927968Z",
     "iopub.status.busy": "2021-07-10T13:15:06.927120Z",
     "iopub.status.idle": "2021-07-10T13:15:06.931107Z",
     "shell.execute_reply": "2021-07-10T13:15:06.930445Z",
     "shell.execute_reply.started": "2021-07-10T13:01:09.16523Z"
    },
    "papermill": {
     "duration": 0.1649,
     "end_time": "2021-07-10T13:15:06.931249",
     "exception": false,
     "start_time": "2021-07-10T13:15:06.766349",
     "status": "completed"
    },
    "tags": []
   },
   "outputs": [],
   "source": [
    "def has_lucky_number(nums):\n",
    "    \"\"\"Return whether the given list of numbers is lucky. A lucky list contains\n",
    "    at least one number divisible by 7.\n",
    "    \"\"\"\n",
    "    for num in nums:\n",
    "        if num % 7 == 0:\n",
    "            return True\n",
    "        else:\n",
    "            return False"
   ]
  },
  {
   "cell_type": "markdown",
   "metadata": {
    "papermill": {
     "duration": 0.017519,
     "end_time": "2021-07-10T13:15:06.967082",
     "exception": false,
     "start_time": "2021-07-10T13:15:06.949563",
     "status": "completed"
    },
    "tags": []
   },
   "source": [
    "Try to identify the bug and fix it in the cell below:"
   ]
  },
  {
   "cell_type": "code",
   "execution_count": 3,
   "metadata": {
    "execution": {
     "iopub.execute_input": "2021-07-10T13:15:07.011679Z",
     "iopub.status.busy": "2021-07-10T13:15:07.010946Z",
     "iopub.status.idle": "2021-07-10T13:15:07.017153Z",
     "shell.execute_reply": "2021-07-10T13:15:07.017682Z",
     "shell.execute_reply.started": "2021-07-10T13:01:09.17169Z"
    },
    "papermill": {
     "duration": 0.032776,
     "end_time": "2021-07-10T13:15:07.017878",
     "exception": false,
     "start_time": "2021-07-10T13:15:06.985102",
     "status": "completed"
    },
    "tags": []
   },
   "outputs": [
    {
     "data": {
      "application/javascript": [
       "parent.postMessage({\"jupyterEvent\": \"custom.exercise_interaction\", \"data\": {\"outcomeType\": 1, \"valueTowardsCompletion\": 0.25, \"interactionType\": 1, \"questionType\": 2, \"questionId\": \"1_EarlyExitDebugging\", \"learnToolsVersion\": \"0.3.4\", \"failureMessage\": \"\", \"exceptionClass\": \"\", \"trace\": \"\"}}, \"*\")"
      ],
      "text/plain": [
       "<IPython.core.display.Javascript object>"
      ]
     },
     "metadata": {},
     "output_type": "display_data"
    },
    {
     "data": {
      "text/markdown": [
       "<span style=\"color:#33cc33\">Correct:</span> \n",
       "\n",
       "Remember that `return` causes a function to exit immediately. So our original implementation always ran for just one iteration. We can only return `False` if we've looked at every element of the list (and confirmed that none of them are lucky). Though we can return early if the answer is `True`:\n",
       "\n",
       "```python\n",
       "def has_lucky_number(nums):\n",
       "    for num in nums:\n",
       "        if num % 7 == 0:\n",
       "            return True\n",
       "    # We've exhausted the list without finding a lucky number\n",
       "    return False\n",
       "```\n",
       "\n",
       "Here's a one-line version using a list comprehension with Python's `any` function (you can read about what it does by calling `help(any)`):\n",
       "\n",
       "```python\n",
       "def has_lucky_number(nums):\n",
       "    return any([num % 7 == 0 for num in nums])\n",
       "```\n"
      ],
      "text/plain": [
       "Correct: \n",
       "\n",
       "Remember that `return` causes a function to exit immediately. So our original implementation always ran for just one iteration. We can only return `False` if we've looked at every element of the list (and confirmed that none of them are lucky). Though we can return early if the answer is `True`:\n",
       "\n",
       "```python\n",
       "def has_lucky_number(nums):\n",
       "    for num in nums:\n",
       "        if num % 7 == 0:\n",
       "            return True\n",
       "    # We've exhausted the list without finding a lucky number\n",
       "    return False\n",
       "```\n",
       "\n",
       "Here's a one-line version using a list comprehension with Python's `any` function (you can read about what it does by calling `help(any)`):\n",
       "\n",
       "```python\n",
       "def has_lucky_number(nums):\n",
       "    return any([num % 7 == 0 for num in nums])\n",
       "```"
      ]
     },
     "metadata": {},
     "output_type": "display_data"
    }
   ],
   "source": [
    "def has_lucky_number(nums):\n",
    "    \"\"\"Return whether the given list of numbers is lucky. A lucky list contains\n",
    "    at least one number divisible by 7.\n",
    "    \"\"\"\n",
    "    for num in nums:\n",
    "        if num % 7 == 0:\n",
    "            return True\n",
    "    return False\n",
    "\n",
    "# Check your answer\n",
    "q1.check()"
   ]
  },
  {
   "cell_type": "code",
   "execution_count": 4,
   "metadata": {
    "execution": {
     "iopub.execute_input": "2021-07-10T13:15:07.059838Z",
     "iopub.status.busy": "2021-07-10T13:15:07.059172Z",
     "iopub.status.idle": "2021-07-10T13:15:07.062030Z",
     "shell.execute_reply": "2021-07-10T13:15:07.062568Z",
     "shell.execute_reply.started": "2021-07-10T13:01:09.194027Z"
    },
    "papermill": {
     "duration": 0.025688,
     "end_time": "2021-07-10T13:15:07.062762",
     "exception": false,
     "start_time": "2021-07-10T13:15:07.037074",
     "status": "completed"
    },
    "tags": []
   },
   "outputs": [],
   "source": [
    "# q1.hint()\n",
    "# q1.solution()"
   ]
  },
  {
   "cell_type": "markdown",
   "metadata": {
    "papermill": {
     "duration": 0.019798,
     "end_time": "2021-07-10T13:15:07.101537",
     "exception": false,
     "start_time": "2021-07-10T13:15:07.081739",
     "status": "completed"
    },
    "tags": []
   },
   "source": [
    "# 2.\n",
    "Look at the Python expression below. What do you think we'll get when we run it? When you've made your prediction, uncomment the code and run the cell to see if you were right."
   ]
  },
  {
   "cell_type": "code",
   "execution_count": 5,
   "metadata": {
    "execution": {
     "iopub.execute_input": "2021-07-10T13:15:07.143076Z",
     "iopub.status.busy": "2021-07-10T13:15:07.142364Z",
     "iopub.status.idle": "2021-07-10T13:15:07.148727Z",
     "shell.execute_reply": "2021-07-10T13:15:07.148153Z",
     "shell.execute_reply.started": "2021-07-10T13:01:09.202132Z"
    },
    "papermill": {
     "duration": 0.028279,
     "end_time": "2021-07-10T13:15:07.148903",
     "exception": false,
     "start_time": "2021-07-10T13:15:07.120624",
     "status": "completed"
    },
    "tags": []
   },
   "outputs": [
    {
     "data": {
      "text/plain": [
       "\"\\n[1, 2, 3, 4] > 2\\n\\n'list' and 'int' is not comparable\\n\""
      ]
     },
     "execution_count": 5,
     "metadata": {},
     "output_type": "execute_result"
    }
   ],
   "source": [
    "\"\"\"\n",
    "[1, 2, 3, 4] > 2\n",
    "\n",
    "'list' and 'int' is not comparable\n",
    "\"\"\""
   ]
  },
  {
   "cell_type": "markdown",
   "metadata": {
    "papermill": {
     "duration": 0.018744,
     "end_time": "2021-07-10T13:15:07.187188",
     "exception": false,
     "start_time": "2021-07-10T13:15:07.168444",
     "status": "completed"
    },
    "tags": []
   },
   "source": [
    "R and Python have some libraries (like numpy and pandas) compare each element of the list to 2 (i.e. do an 'element-wise' comparison) and give us a list of booleans like `[False, False, True, True]`. \n",
    "\n",
    "Implement a function that reproduces this behaviour, returning a list of booleans corresponding to whether the corresponding element is greater than n."
   ]
  },
  {
   "cell_type": "code",
   "execution_count": 6,
   "metadata": {
    "execution": {
     "iopub.execute_input": "2021-07-10T13:15:07.234433Z",
     "iopub.status.busy": "2021-07-10T13:15:07.233340Z",
     "iopub.status.idle": "2021-07-10T13:15:07.239000Z",
     "shell.execute_reply": "2021-07-10T13:15:07.239493Z",
     "shell.execute_reply.started": "2021-07-10T13:01:09.218404Z"
    },
    "papermill": {
     "duration": 0.032908,
     "end_time": "2021-07-10T13:15:07.239713",
     "exception": false,
     "start_time": "2021-07-10T13:15:07.206805",
     "status": "completed"
    },
    "tags": []
   },
   "outputs": [
    {
     "data": {
      "application/javascript": [
       "parent.postMessage({\"jupyterEvent\": \"custom.exercise_interaction\", \"data\": {\"outcomeType\": 1, \"valueTowardsCompletion\": 0.25, \"interactionType\": 1, \"questionType\": 2, \"questionId\": \"2_ElementWiseComparison\", \"learnToolsVersion\": \"0.3.4\", \"failureMessage\": \"\", \"exceptionClass\": \"\", \"trace\": \"\"}}, \"*\")"
      ],
      "text/plain": [
       "<IPython.core.display.Javascript object>"
      ]
     },
     "metadata": {},
     "output_type": "display_data"
    },
    {
     "data": {
      "text/markdown": [
       "<span style=\"color:#33cc33\">Correct:</span> \n",
       "\n",
       "Here's one solution:\n",
       "```python\n",
       "def elementwise_greater_than(L, thresh):\n",
       "    res = []\n",
       "    for ele in L:\n",
       "        res.append(ele > thresh)\n",
       "    return res\n",
       "```\n",
       "\n",
       "And here's the list comprehension version:\n",
       "```python\n",
       "def elementwise_greater_than(L, thresh):\n",
       "    return [ele > thresh for ele in L]\n",
       "```\n"
      ],
      "text/plain": [
       "Correct: \n",
       "\n",
       "Here's one solution:\n",
       "```python\n",
       "def elementwise_greater_than(L, thresh):\n",
       "    res = []\n",
       "    for ele in L:\n",
       "        res.append(ele > thresh)\n",
       "    return res\n",
       "```\n",
       "\n",
       "And here's the list comprehension version:\n",
       "```python\n",
       "def elementwise_greater_than(L, thresh):\n",
       "    return [ele > thresh for ele in L]\n",
       "```"
      ]
     },
     "metadata": {},
     "output_type": "display_data"
    }
   ],
   "source": [
    "def elementwise_greater_than(L, thresh):\n",
    "    \"\"\"Return a list with the same length as L, where the value at index i is \n",
    "    True if L[i] is greater than thresh, and False otherwise.\n",
    "    \n",
    "    >>> elementwise_greater_than([1, 2, 3, 4], 2)\n",
    "    [False, False, True, True]\n",
    "    \"\"\"\n",
    "    res = []\n",
    "    \n",
    "    for i in L:\n",
    "        res.append(i > thresh)\n",
    "    return res\n",
    "\n",
    "# Check your answer\n",
    "q2.check()"
   ]
  },
  {
   "cell_type": "code",
   "execution_count": 7,
   "metadata": {
    "execution": {
     "iopub.execute_input": "2021-07-10T13:15:07.287151Z",
     "iopub.status.busy": "2021-07-10T13:15:07.286325Z",
     "iopub.status.idle": "2021-07-10T13:15:07.289863Z",
     "shell.execute_reply": "2021-07-10T13:15:07.289256Z",
     "shell.execute_reply.started": "2021-07-10T13:01:09.486777Z"
    },
    "papermill": {
     "duration": 0.029839,
     "end_time": "2021-07-10T13:15:07.290047",
     "exception": false,
     "start_time": "2021-07-10T13:15:07.260208",
     "status": "completed"
    },
    "tags": []
   },
   "outputs": [],
   "source": [
    "# q2.solution()"
   ]
  },
  {
   "cell_type": "code",
   "execution_count": 8,
   "metadata": {
    "execution": {
     "iopub.execute_input": "2021-07-10T13:15:07.339329Z",
     "iopub.status.busy": "2021-07-10T13:15:07.338490Z",
     "iopub.status.idle": "2021-07-10T13:15:07.342631Z",
     "shell.execute_reply": "2021-07-10T13:15:07.343627Z",
     "shell.execute_reply.started": "2021-07-10T13:01:10.376792Z"
    },
    "papermill": {
     "duration": 0.032297,
     "end_time": "2021-07-10T13:15:07.343884",
     "exception": false,
     "start_time": "2021-07-10T13:15:07.311587",
     "status": "completed"
    },
    "tags": []
   },
   "outputs": [
    {
     "name": "stdout",
     "output_type": "stream",
     "text": [
      "[3, 4]\n"
     ]
    }
   ],
   "source": [
    "# Written for testing purposes\n",
    "\n",
    "T = 2\n",
    "L = [1, 2, 3, 4]\n",
    "r = []\n",
    "\n",
    "for i in L:\n",
    "    if i > T:\n",
    "        r.append(i)\n",
    "\n",
    "print(r)"
   ]
  },
  {
   "cell_type": "markdown",
   "metadata": {
    "papermill": {
     "duration": 0.021526,
     "end_time": "2021-07-10T13:15:07.386875",
     "exception": false,
     "start_time": "2021-07-10T13:15:07.365349",
     "status": "completed"
    },
    "tags": []
   },
   "source": [
    "# 3.\n",
    "\n",
    "Complete the body of the function below according to its docstring."
   ]
  },
  {
   "cell_type": "code",
   "execution_count": 9,
   "metadata": {
    "execution": {
     "iopub.execute_input": "2021-07-10T13:15:07.436373Z",
     "iopub.status.busy": "2021-07-10T13:15:07.435640Z",
     "iopub.status.idle": "2021-07-10T13:15:07.442930Z",
     "shell.execute_reply": "2021-07-10T13:15:07.442244Z",
     "shell.execute_reply.started": "2021-07-10T13:01:10.401915Z"
    },
    "papermill": {
     "duration": 0.034867,
     "end_time": "2021-07-10T13:15:07.443098",
     "exception": false,
     "start_time": "2021-07-10T13:15:07.408231",
     "status": "completed"
    },
    "tags": []
   },
   "outputs": [
    {
     "data": {
      "application/javascript": [
       "parent.postMessage({\"jupyterEvent\": \"custom.exercise_interaction\", \"data\": {\"outcomeType\": 1, \"valueTowardsCompletion\": 0.25, \"interactionType\": 1, \"questionType\": 2, \"questionId\": \"3_BoringMenu\", \"learnToolsVersion\": \"0.3.4\", \"failureMessage\": \"\", \"exceptionClass\": \"\", \"trace\": \"\"}}, \"*\")"
      ],
      "text/plain": [
       "<IPython.core.display.Javascript object>"
      ]
     },
     "metadata": {},
     "output_type": "display_data"
    },
    {
     "data": {
      "text/markdown": [
       "<span style=\"color:#33cc33\">Correct:</span> \n",
       "\n",
       "\n",
       "\n",
       "```python\n",
       "def menu_is_boring(meals):\n",
       "    # Iterate over all indices of the list, except the last one\n",
       "    for i in range(len(meals)-1):\n",
       "        if meals[i] == meals[i+1]:\n",
       "            return True\n",
       "    return False\n",
       "```\n",
       "\n",
       "The key to our solution is the call to `range`. `range(len(meals))` would give us all the indices of `meals`. If we had used that range, the last iteration of the loop would be comparing the last element to the element after it, which is... `IndexError`! `range(len(meals)-1)` gives us all the indices except the index of the last element.\n",
       "\n",
       "But don't we need to check if `meals` is empty? Turns out that `range(0) == range(-1)` - they're both empty. So if `meals` has length 0 or 1, we just won't do any iterations of our for loop.\n"
      ],
      "text/plain": [
       "Correct: \n",
       "\n",
       "\n",
       "\n",
       "```python\n",
       "def menu_is_boring(meals):\n",
       "    # Iterate over all indices of the list, except the last one\n",
       "    for i in range(len(meals)-1):\n",
       "        if meals[i] == meals[i+1]:\n",
       "            return True\n",
       "    return False\n",
       "```\n",
       "\n",
       "The key to our solution is the call to `range`. `range(len(meals))` would give us all the indices of `meals`. If we had used that range, the last iteration of the loop would be comparing the last element to the element after it, which is... `IndexError`! `range(len(meals)-1)` gives us all the indices except the index of the last element.\n",
       "\n",
       "But don't we need to check if `meals` is empty? Turns out that `range(0) == range(-1)` - they're both empty. So if `meals` has length 0 or 1, we just won't do any iterations of our for loop."
      ]
     },
     "metadata": {},
     "output_type": "display_data"
    }
   ],
   "source": [
    "def menu_is_boring(meals):\n",
    "    \"\"\"Given a list of meals served over some period of time, return True if the\n",
    "    same meal has ever been served two days in a row, and False otherwise.\n",
    "    \"\"\"\n",
    "    for i in range(len(meals) - 1):\n",
    "        if meals[i] == meals[i + 1]:\n",
    "            return True\n",
    "    return False\n",
    "\n",
    "# Check your answer\n",
    "q3.check()"
   ]
  },
  {
   "cell_type": "code",
   "execution_count": 10,
   "metadata": {
    "execution": {
     "iopub.execute_input": "2021-07-10T13:15:07.491872Z",
     "iopub.status.busy": "2021-07-10T13:15:07.491230Z",
     "iopub.status.idle": "2021-07-10T13:15:07.494246Z",
     "shell.execute_reply": "2021-07-10T13:15:07.493698Z",
     "shell.execute_reply.started": "2021-07-10T13:01:10.523263Z"
    },
    "papermill": {
     "duration": 0.029293,
     "end_time": "2021-07-10T13:15:07.494403",
     "exception": false,
     "start_time": "2021-07-10T13:15:07.465110",
     "status": "completed"
    },
    "tags": []
   },
   "outputs": [],
   "source": [
    "# q3.hint()\n",
    "# q3.solution()"
   ]
  },
  {
   "cell_type": "markdown",
   "metadata": {
    "papermill": {
     "duration": 0.021476,
     "end_time": "2021-07-10T13:15:07.538253",
     "exception": false,
     "start_time": "2021-07-10T13:15:07.516777",
     "status": "completed"
    },
    "tags": []
   },
   "source": [
    "# 4. <span title=\"A bit spicy\" style=\"color: darkgreen \">🌶️</span>\n",
    "\n",
    "Next to the Blackjack table, the Python Challenge Casino has a slot machine. You can get a result from the slot machine by calling `play_slot_machine()`. The number it returns is your winnings in dollars. Usually it returns 0.  But sometimes you'll get lucky and get a big payday. Try running it below:"
   ]
  },
  {
   "cell_type": "code",
   "execution_count": 11,
   "metadata": {
    "execution": {
     "iopub.execute_input": "2021-07-10T13:15:07.588561Z",
     "iopub.status.busy": "2021-07-10T13:15:07.587840Z",
     "iopub.status.idle": "2021-07-10T13:15:07.591785Z",
     "shell.execute_reply": "2021-07-10T13:15:07.591210Z",
     "shell.execute_reply.started": "2021-07-10T13:01:10.528666Z"
    },
    "papermill": {
     "duration": 0.031149,
     "end_time": "2021-07-10T13:15:07.591959",
     "exception": false,
     "start_time": "2021-07-10T13:15:07.560810",
     "status": "completed"
    },
    "tags": []
   },
   "outputs": [
    {
     "data": {
      "text/plain": [
       "0"
      ]
     },
     "execution_count": 11,
     "metadata": {},
     "output_type": "execute_result"
    }
   ],
   "source": [
    "play_slot_machine()"
   ]
  },
  {
   "cell_type": "markdown",
   "metadata": {
    "papermill": {
     "duration": 0.022892,
     "end_time": "2021-07-10T13:15:07.636784",
     "exception": false,
     "start_time": "2021-07-10T13:15:07.613892",
     "status": "completed"
    },
    "tags": []
   },
   "source": [
    "By the way, did we mention that each play costs $1? Don't worry, we'll send you the bill later.\n",
    "\n",
    "On average, how much money can you expect to gain (or lose) every time you play the machine?  The casino keeps it a secret, but you can estimate the average value of each pull using a technique called the **Monte Carlo method**. To estimate the average outcome, we simulate the scenario many times, and return the average result.\n",
    "\n",
    "Complete the following function to calculate the average value per play of the slot machine."
   ]
  },
  {
   "cell_type": "code",
   "execution_count": 12,
   "metadata": {
    "execution": {
     "iopub.execute_input": "2021-07-10T13:15:07.684705Z",
     "iopub.status.busy": "2021-07-10T13:15:07.684076Z",
     "iopub.status.idle": "2021-07-10T13:15:08.161090Z",
     "shell.execute_reply": "2021-07-10T13:15:08.161574Z",
     "shell.execute_reply.started": "2021-07-10T13:01:11.907112Z"
    },
    "papermill": {
     "duration": 0.502168,
     "end_time": "2021-07-10T13:15:08.161754",
     "exception": false,
     "start_time": "2021-07-10T13:15:07.659586",
     "status": "completed"
    },
    "tags": []
   },
   "outputs": [
    {
     "data": {
      "text/plain": [
       "0.037804"
      ]
     },
     "execution_count": 12,
     "metadata": {},
     "output_type": "execute_result"
    }
   ],
   "source": [
    "def estimate_average_slot_payout(n_runs):\n",
    "    \"\"\"Run the slot machine n_runs times and return the average net profit per run.\n",
    "    Example calls (note that return value is nondeterministic!):\n",
    "    >>> estimate_average_slot_payout(1)\n",
    "    -1\n",
    "    >>> estimate_average_slot_payout(1)\n",
    "    0.5\n",
    "    \"\"\"\n",
    "    total = 0\n",
    "    \n",
    "    for i in range(n_runs):\n",
    "        total = total + (play_slot_machine() - 1)\n",
    "    return total / n_runs\n",
    "\n",
    "estimate_average_slot_payout(1000000)"
   ]
  },
  {
   "cell_type": "markdown",
   "metadata": {
    "papermill": {
     "duration": 0.02158,
     "end_time": "2021-07-10T13:15:08.205468",
     "exception": false,
     "start_time": "2021-07-10T13:15:08.183888",
     "status": "completed"
    },
    "tags": []
   },
   "source": [
    "When you think you know the expected value per spin, run the code cell below to view the solution and get credit for answering the question."
   ]
  },
  {
   "cell_type": "code",
   "execution_count": 13,
   "metadata": {
    "execution": {
     "iopub.execute_input": "2021-07-10T13:15:08.255147Z",
     "iopub.status.busy": "2021-07-10T13:15:08.254453Z",
     "iopub.status.idle": "2021-07-10T13:15:08.259756Z",
     "shell.execute_reply": "2021-07-10T13:15:08.259229Z",
     "shell.execute_reply.started": "2021-07-10T13:01:12.198116Z"
    },
    "papermill": {
     "duration": 0.032535,
     "end_time": "2021-07-10T13:15:08.259931",
     "exception": false,
     "start_time": "2021-07-10T13:15:08.227396",
     "status": "completed"
    },
    "tags": []
   },
   "outputs": [
    {
     "data": {
      "application/javascript": [
       "parent.postMessage({\"jupyterEvent\": \"custom.exercise_interaction\", \"data\": {\"interactionType\": 3, \"questionType\": 4, \"questionId\": \"4_ExpectedSlotsPayout\", \"learnToolsVersion\": \"0.3.4\", \"valueTowardsCompletion\": 0.0, \"failureMessage\": \"\", \"exceptionClass\": \"\", \"trace\": \"\", \"outcomeType\": 4}}, \"*\")"
      ],
      "text/plain": [
       "<IPython.core.display.Javascript object>"
      ]
     },
     "metadata": {},
     "output_type": "display_data"
    },
    {
     "data": {
      "text/markdown": [
       "<span style=\"color:#33cc99\">Solution:</span> The exact expected value of one pull of the slot machine is 0.025 - i.e. a little more than 2 cents. See? Not every game in the Python Challenge Casino is rigged against the player!\n",
       "\n",
       "Because of the high variance of the outcome (there are some very rare high payout results that significantly affect the average) you might need to run your function with a very high value of `n_runs` to get a stable answer close to the true expectation.\n",
       "\n",
       "If your answer is way higher than 0.025, then maybe you forgot to account for the $1 cost per play?"
      ],
      "text/plain": [
       "Solution: The exact expected value of one pull of the slot machine is 0.025 - i.e. a little more than 2 cents. See? Not every game in the Python Challenge Casino is rigged against the player!\n",
       "\n",
       "Because of the high variance of the outcome (there are some very rare high payout results that significantly affect the average) you might need to run your function with a very high value of `n_runs` to get a stable answer close to the true expectation.\n",
       "\n",
       "If your answer is way higher than 0.025, then maybe you forgot to account for the $1 cost per play?"
      ]
     },
     "metadata": {},
     "output_type": "display_data"
    }
   ],
   "source": [
    "# Check your answer (Run this code cell to receive credit!)\n",
    "q4.solution()"
   ]
  }
 ],
 "metadata": {
  "kernelspec": {
   "display_name": "Python 3",
   "language": "python",
   "name": "python3"
  },
  "language_info": {
   "codemirror_mode": {
    "name": "ipython",
    "version": 3
   },
   "file_extension": ".py",
   "mimetype": "text/x-python",
   "name": "python",
   "nbconvert_exporter": "python",
   "pygments_lexer": "ipython3",
   "version": "3.8.3"
  },
  "papermill": {
   "default_parameters": {},
   "duration": 11.733927,
   "end_time": "2021-07-10T13:15:09.192036",
   "environment_variables": {},
   "exception": null,
   "input_path": "__notebook__.ipynb",
   "output_path": "__notebook__.ipynb",
   "parameters": {},
   "start_time": "2021-07-10T13:14:57.458109",
   "version": "2.3.3"
  }
 },
 "nbformat": 4,
 "nbformat_minor": 5
}
