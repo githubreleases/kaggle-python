{
 "cells": [
  {
   "cell_type": "markdown",
   "metadata": {
    "papermill": {
     "duration": 0.014939,
     "end_time": "2021-07-10T13:12:32.598792",
     "exception": false,
     "start_time": "2021-07-10T13:12:32.583853",
     "status": "completed"
    },
    "tags": []
   },
   "source": [
    "Functions are powerful. Try writing some yourself.\n",
    "\n",
    "As before, don't forget to run the setup code below before jumping into question 1."
   ]
  },
  {
   "cell_type": "code",
   "execution_count": 1,
   "metadata": {
    "_kg_hide-input": true,
    "_kg_hide-output": true,
    "execution": {
     "iopub.execute_input": "2021-07-10T13:12:32.633863Z",
     "iopub.status.busy": "2021-07-10T13:12:32.632679Z",
     "iopub.status.idle": "2021-07-10T13:12:32.776522Z",
     "shell.execute_reply": "2021-07-10T13:12:32.777373Z",
     "shell.execute_reply.started": "2021-07-10T12:28:53.145438Z"
    },
    "papermill": {
     "duration": 0.163986,
     "end_time": "2021-07-10T13:12:32.777840",
     "exception": false,
     "start_time": "2021-07-10T13:12:32.613854",
     "status": "completed"
    },
    "tags": []
   },
   "outputs": [
    {
     "name": "stdout",
     "output_type": "stream",
     "text": [
      "Setup complete.\n"
     ]
    }
   ],
   "source": [
    "# SETUP. You don't need to worry for now about what this code does or how it works.\n",
    "from learntools.core import binder; binder.bind(globals())\n",
    "from learntools.python.ex2 import *\n",
    "print('Setup complete.')"
   ]
  },
  {
   "cell_type": "markdown",
   "metadata": {
    "papermill": {
     "duration": 0.015096,
     "end_time": "2021-07-10T13:12:32.809968",
     "exception": false,
     "start_time": "2021-07-10T13:12:32.794872",
     "status": "completed"
    },
    "tags": []
   },
   "source": [
    "# 1.\n",
    "\n",
    "Complete the body of the following function according to its docstring.\n",
    "\n",
    "HINT: Python has a built-in function `round`."
   ]
  },
  {
   "cell_type": "code",
   "execution_count": 2,
   "metadata": {
    "execution": {
     "iopub.execute_input": "2021-07-10T13:12:32.844273Z",
     "iopub.status.busy": "2021-07-10T13:12:32.843520Z",
     "iopub.status.idle": "2021-07-10T13:12:32.853364Z",
     "shell.execute_reply": "2021-07-10T13:12:32.853971Z",
     "shell.execute_reply.started": "2021-07-10T12:28:53.482765Z"
    },
    "papermill": {
     "duration": 0.028661,
     "end_time": "2021-07-10T13:12:32.854151",
     "exception": false,
     "start_time": "2021-07-10T13:12:32.825490",
     "status": "completed"
    },
    "tags": []
   },
   "outputs": [
    {
     "data": {
      "application/javascript": [
       "parent.postMessage({\"jupyterEvent\": \"custom.exercise_interaction\", \"data\": {\"outcomeType\": 1, \"valueTowardsCompletion\": 0.16666666666666666, \"interactionType\": 1, \"questionType\": 2, \"questionId\": \"1_RoundFunctionProblem\", \"learnToolsVersion\": \"0.3.4\", \"failureMessage\": \"\", \"exceptionClass\": \"\", \"trace\": \"\"}}, \"*\")"
      ],
      "text/plain": [
       "<IPython.core.display.Javascript object>"
      ]
     },
     "metadata": {},
     "output_type": "display_data"
    },
    {
     "data": {
      "text/markdown": [
       "<span style=\"color:#33cc33\">Correct</span>"
      ],
      "text/plain": [
       "Correct"
      ]
     },
     "metadata": {},
     "output_type": "display_data"
    }
   ],
   "source": [
    "def round_to_two_places(num):\n",
    "    \"\"\"Return the given number rounded to two decimal places. \n",
    "    \n",
    "    >>> round_to_two_places(3.14159)\n",
    "    3.14\n",
    "    \"\"\"\n",
    "    # Replace this body with your own code.\n",
    "    # (\"pass\" is a keyword that does literally nothing. We used it as a placeholder\n",
    "    # because after we begin a code block, Python requires at least one line of code)\n",
    "    return round(num, 2)\n",
    "\n",
    "# Check your answer\n",
    "q1.check()"
   ]
  },
  {
   "cell_type": "code",
   "execution_count": 3,
   "metadata": {
    "execution": {
     "iopub.execute_input": "2021-07-10T13:12:32.890331Z",
     "iopub.status.busy": "2021-07-10T13:12:32.889576Z",
     "iopub.status.idle": "2021-07-10T13:12:32.893308Z",
     "shell.execute_reply": "2021-07-10T13:12:32.893898Z",
     "shell.execute_reply.started": "2021-07-10T12:28:54.299209Z"
    },
    "papermill": {
     "duration": 0.023358,
     "end_time": "2021-07-10T13:12:32.894088",
     "exception": false,
     "start_time": "2021-07-10T13:12:32.870730",
     "status": "completed"
    },
    "tags": []
   },
   "outputs": [],
   "source": [
    "# Uncomment the following for a hint\n",
    "# q1.hint()\n",
    "# Or uncomment the following to peek at the solution\n",
    "# q1.solution()"
   ]
  },
  {
   "cell_type": "markdown",
   "metadata": {
    "papermill": {
     "duration": 0.015874,
     "end_time": "2021-07-10T13:12:32.926439",
     "exception": false,
     "start_time": "2021-07-10T13:12:32.910565",
     "status": "completed"
    },
    "tags": []
   },
   "source": [
    "# 2.\n",
    "The help for `round` says that `ndigits` (the second argument) may be negative.\n",
    "What do you think will happen when it is? Try some examples in the following cell."
   ]
  },
  {
   "cell_type": "code",
   "execution_count": 4,
   "metadata": {
    "execution": {
     "iopub.execute_input": "2021-07-10T13:12:32.968401Z",
     "iopub.status.busy": "2021-07-10T13:12:32.967352Z",
     "iopub.status.idle": "2021-07-10T13:12:32.972936Z",
     "shell.execute_reply": "2021-07-10T13:12:32.973490Z",
     "shell.execute_reply.started": "2021-07-10T12:28:54.308227Z"
    },
    "papermill": {
     "duration": 0.027253,
     "end_time": "2021-07-10T13:12:32.973719",
     "exception": false,
     "start_time": "2021-07-10T13:12:32.946466",
     "status": "completed"
    },
    "tags": []
   },
   "outputs": [
    {
     "data": {
      "text/plain": [
       "20.0"
      ]
     },
     "execution_count": 4,
     "metadata": {},
     "output_type": "execute_result"
    }
   ],
   "source": [
    "# Put your test code here\n",
    "round(18.2942, ndigits=-1)"
   ]
  },
  {
   "cell_type": "markdown",
   "metadata": {
    "papermill": {
     "duration": 0.01702,
     "end_time": "2021-07-10T13:12:33.010265",
     "exception": false,
     "start_time": "2021-07-10T13:12:32.993245",
     "status": "completed"
    },
    "tags": []
   },
   "source": [
    "Can you think of a case where this would be useful?  Once you're ready, run the code cell below to see the answer and to receive credit for completing the problem."
   ]
  },
  {
   "cell_type": "code",
   "execution_count": 5,
   "metadata": {
    "execution": {
     "iopub.execute_input": "2021-07-10T13:12:33.048419Z",
     "iopub.status.busy": "2021-07-10T13:12:33.047730Z",
     "iopub.status.idle": "2021-07-10T13:12:33.056748Z",
     "shell.execute_reply": "2021-07-10T13:12:33.056194Z",
     "shell.execute_reply.started": "2021-07-10T12:28:54.327098Z"
    },
    "papermill": {
     "duration": 0.029187,
     "end_time": "2021-07-10T13:12:33.056892",
     "exception": false,
     "start_time": "2021-07-10T13:12:33.027705",
     "status": "completed"
    },
    "tags": []
   },
   "outputs": [
    {
     "data": {
      "application/javascript": [
       "parent.postMessage({\"jupyterEvent\": \"custom.exercise_interaction\", \"data\": {\"interactionType\": 3, \"questionType\": 4, \"questionId\": \"2_RoundNdigitsProblem\", \"learnToolsVersion\": \"0.3.4\", \"valueTowardsCompletion\": 0.0, \"failureMessage\": \"\", \"exceptionClass\": \"\", \"trace\": \"\", \"outcomeType\": 4}}, \"*\")"
      ],
      "text/plain": [
       "<IPython.core.display.Javascript object>"
      ]
     },
     "metadata": {},
     "output_type": "display_data"
    },
    {
     "data": {
      "text/markdown": [
       "<span style=\"color:#33cc99\">Solution:</span> As you've seen, `ndigits=-1` rounds to the nearest 10, `ndigits=-2` rounds to the nearest 100 and so on. Where might this be useful? Suppose we're dealing with large numbers:\n",
       "\n",
       "> The area of Finland is 338,424 km²  \n",
       "> The area of Greenland is 2,166,086 km²\n",
       "\n",
       "We probably don't care whether it's really 338,424, or 338,425, or 338,177. All those digits of accuracy are just distracting. We can chop them off by calling `round()` with `ndigits=-3`:\n",
       "\n",
       "> The area of Finland is 338,000 km²  \n",
       "> The area of Greenland is 2,166,000 km²\n",
       "\n",
       "(We'll talk about how we would get the commas later when we talk about string formatting :))\n"
      ],
      "text/plain": [
       "Solution: As you've seen, `ndigits=-1` rounds to the nearest 10, `ndigits=-2` rounds to the nearest 100 and so on. Where might this be useful? Suppose we're dealing with large numbers:\n",
       "\n",
       "> The area of Finland is 338,424 km²  \n",
       "> The area of Greenland is 2,166,086 km²\n",
       "\n",
       "We probably don't care whether it's really 338,424, or 338,425, or 338,177. All those digits of accuracy are just distracting. We can chop them off by calling `round()` with `ndigits=-3`:\n",
       "\n",
       "> The area of Finland is 338,000 km²  \n",
       "> The area of Greenland is 2,166,000 km²\n",
       "\n",
       "(We'll talk about how we would get the commas later when we talk about string formatting :))"
      ]
     },
     "metadata": {},
     "output_type": "display_data"
    }
   ],
   "source": [
    "# Check your answer (Run this code cell to receive credit!)\n",
    "q2.solution()"
   ]
  },
  {
   "cell_type": "markdown",
   "metadata": {
    "papermill": {
     "duration": 0.018221,
     "end_time": "2021-07-10T13:12:33.092954",
     "exception": false,
     "start_time": "2021-07-10T13:12:33.074733",
     "status": "completed"
    },
    "tags": []
   },
   "source": [
    "# 3.\n",
    "\n",
    "In the previous exercise, the candy-sharing friends Alice, Bob and Carol tried to split candies evenly. For the sake of their friendship, any candies left over would be smashed. For example, if they collectively bring home 91 candies, they'll take 30 each and smash 1.\n",
    "\n",
    "Below is a simple function that will calculate the number of candies to smash for *any* number of total candies.\n",
    "\n",
    "Modify it so that it optionally takes a second argument representing the number of friends the candies are being split between. If no second argument is provided, it should assume 3 friends, as before.\n",
    "\n",
    "Update the docstring to reflect this new behaviour."
   ]
  },
  {
   "cell_type": "code",
   "execution_count": 6,
   "metadata": {
    "execution": {
     "iopub.execute_input": "2021-07-10T13:12:33.134097Z",
     "iopub.status.busy": "2021-07-10T13:12:33.133379Z",
     "iopub.status.idle": "2021-07-10T13:12:33.138893Z",
     "shell.execute_reply": "2021-07-10T13:12:33.139407Z",
     "shell.execute_reply.started": "2021-07-10T12:28:55.907345Z"
    },
    "papermill": {
     "duration": 0.028918,
     "end_time": "2021-07-10T13:12:33.139614",
     "exception": false,
     "start_time": "2021-07-10T13:12:33.110696",
     "status": "completed"
    },
    "tags": []
   },
   "outputs": [
    {
     "data": {
      "application/javascript": [
       "parent.postMessage({\"jupyterEvent\": \"custom.exercise_interaction\", \"data\": {\"outcomeType\": 1, \"valueTowardsCompletion\": 0.16666666666666666, \"interactionType\": 1, \"questionType\": 2, \"questionId\": \"3_CandySmashingFunctionProblem\", \"learnToolsVersion\": \"0.3.4\", \"failureMessage\": \"\", \"exceptionClass\": \"\", \"trace\": \"\"}}, \"*\")"
      ],
      "text/plain": [
       "<IPython.core.display.Javascript object>"
      ]
     },
     "metadata": {},
     "output_type": "display_data"
    },
    {
     "data": {
      "text/markdown": [
       "<span style=\"color:#33cc33\">Correct</span>"
      ],
      "text/plain": [
       "Correct"
      ]
     },
     "metadata": {},
     "output_type": "display_data"
    }
   ],
   "source": [
    "def to_smash(total_candies, n=3):\n",
    "    \"\"\"Return the number of leftover candies that must be smashed after distributing\n",
    "    the given number of candies evenly between 3 friends.\n",
    "    \n",
    "    >>> to_smash(91)\n",
    "    1\n",
    "    \"\"\"\n",
    "    return total_candies % n\n",
    "\n",
    "# Check your answer\n",
    "q3.check()"
   ]
  },
  {
   "cell_type": "code",
   "execution_count": 7,
   "metadata": {
    "execution": {
     "iopub.execute_input": "2021-07-10T13:12:33.184172Z",
     "iopub.status.busy": "2021-07-10T13:12:33.183455Z",
     "iopub.status.idle": "2021-07-10T13:12:33.185463Z",
     "shell.execute_reply": "2021-07-10T13:12:33.186015Z",
     "shell.execute_reply.started": "2021-07-10T12:28:55.92408Z"
    },
    "papermill": {
     "duration": 0.026828,
     "end_time": "2021-07-10T13:12:33.186193",
     "exception": false,
     "start_time": "2021-07-10T13:12:33.159365",
     "status": "completed"
    },
    "tags": []
   },
   "outputs": [],
   "source": [
    "# q3.hint()"
   ]
  },
  {
   "cell_type": "code",
   "execution_count": 8,
   "metadata": {
    "execution": {
     "iopub.execute_input": "2021-07-10T13:12:33.227862Z",
     "iopub.status.busy": "2021-07-10T13:12:33.227164Z",
     "iopub.status.idle": "2021-07-10T13:12:33.230469Z",
     "shell.execute_reply": "2021-07-10T13:12:33.229953Z",
     "shell.execute_reply.started": "2021-07-10T12:28:56.106055Z"
    },
    "papermill": {
     "duration": 0.025609,
     "end_time": "2021-07-10T13:12:33.230633",
     "exception": false,
     "start_time": "2021-07-10T13:12:33.205024",
     "status": "completed"
    },
    "tags": []
   },
   "outputs": [],
   "source": [
    "# q3.solution()"
   ]
  },
  {
   "cell_type": "markdown",
   "metadata": {
    "papermill": {
     "duration": 0.018124,
     "end_time": "2021-07-10T13:12:33.267429",
     "exception": false,
     "start_time": "2021-07-10T13:12:33.249305",
     "status": "completed"
    },
    "tags": []
   },
   "source": [
    "# 4. (Optional)\n",
    "\n",
    "It may not be fun, but reading and understanding error messages will be an important part of your Python career.\n",
    "\n",
    "Each code cell below contains some commented buggy code. For each cell:\n",
    "\n",
    "1. Read the code and predict what you think will happen when it's run.\n",
    "2. Then uncomment the code and run it to see what happens. (**Tip**: In the kernel editor, you can highlight several lines and press `ctrl`+`/` to toggle commenting.)\n",
    "3. Fix the code (so that it accomplishes its intended purpose without throwing an exception)\n",
    "\n",
    "<!-- TODO: should this be autochecked? Delta is probably pretty small. -->"
   ]
  },
  {
   "cell_type": "code",
   "execution_count": 9,
   "metadata": {
    "execution": {
     "iopub.execute_input": "2021-07-10T13:12:33.309977Z",
     "iopub.status.busy": "2021-07-10T13:12:33.309273Z",
     "iopub.status.idle": "2021-07-10T13:12:33.314050Z",
     "shell.execute_reply": "2021-07-10T13:12:33.313475Z",
     "shell.execute_reply.started": "2021-07-10T12:28:56.111755Z"
    },
    "papermill": {
     "duration": 0.02775,
     "end_time": "2021-07-10T13:12:33.314196",
     "exception": false,
     "start_time": "2021-07-10T13:12:33.286446",
     "status": "completed"
    },
    "tags": []
   },
   "outputs": [
    {
     "data": {
      "text/plain": [
       "10.0"
      ]
     },
     "execution_count": 9,
     "metadata": {},
     "output_type": "execute_result"
    }
   ],
   "source": [
    "round_to_two_places(9.9999)"
   ]
  },
  {
   "cell_type": "code",
   "execution_count": 10,
   "metadata": {
    "execution": {
     "iopub.execute_input": "2021-07-10T13:12:33.355821Z",
     "iopub.status.busy": "2021-07-10T13:12:33.355021Z",
     "iopub.status.idle": "2021-07-10T13:12:33.358817Z",
     "shell.execute_reply": "2021-07-10T13:12:33.359329Z",
     "shell.execute_reply.started": "2021-07-10T12:28:56.131623Z"
    },
    "papermill": {
     "duration": 0.026153,
     "end_time": "2021-07-10T13:12:33.359510",
     "exception": false,
     "start_time": "2021-07-10T13:12:33.333357",
     "status": "completed"
    },
    "tags": []
   },
   "outputs": [],
   "source": [
    "x = -10\n",
    "y = 5\n",
    "\n",
    "# Which of the two variables above has the smallest absolute value?\n",
    "smallest_abs = min(abs(x), abs(y))"
   ]
  },
  {
   "cell_type": "code",
   "execution_count": 11,
   "metadata": {
    "execution": {
     "iopub.execute_input": "2021-07-10T13:12:33.400724Z",
     "iopub.status.busy": "2021-07-10T13:12:33.400088Z",
     "iopub.status.idle": "2021-07-10T13:12:33.405055Z",
     "shell.execute_reply": "2021-07-10T13:12:33.405573Z",
     "shell.execute_reply.started": "2021-07-10T12:28:56.164098Z"
    },
    "papermill": {
     "duration": 0.027207,
     "end_time": "2021-07-10T13:12:33.405757",
     "exception": false,
     "start_time": "2021-07-10T13:12:33.378550",
     "status": "completed"
    },
    "tags": []
   },
   "outputs": [
    {
     "data": {
      "text/plain": [
       "5"
      ]
     },
     "execution_count": 11,
     "metadata": {},
     "output_type": "execute_result"
    }
   ],
   "source": [
    "smallest_abs"
   ]
  },
  {
   "cell_type": "code",
   "execution_count": 12,
   "metadata": {
    "execution": {
     "iopub.execute_input": "2021-07-10T13:12:33.447280Z",
     "iopub.status.busy": "2021-07-10T13:12:33.446641Z",
     "iopub.status.idle": "2021-07-10T13:12:33.453307Z",
     "shell.execute_reply": "2021-07-10T13:12:33.452417Z",
     "shell.execute_reply.started": "2021-07-10T12:28:56.172503Z"
    },
    "papermill": {
     "duration": 0.028462,
     "end_time": "2021-07-10T13:12:33.453492",
     "exception": false,
     "start_time": "2021-07-10T13:12:33.425030",
     "status": "completed"
    },
    "tags": []
   },
   "outputs": [
    {
     "name": "stdout",
     "output_type": "stream",
     "text": [
      "5\n"
     ]
    }
   ],
   "source": [
    "def f(x):\n",
    "    y = abs(x)\n",
    "    return y\n",
    "\n",
    "print(f(5))"
   ]
  }
 ],
 "metadata": {
  "kernelspec": {
   "display_name": "Python 3",
   "language": "python",
   "name": "python3"
  },
  "language_info": {
   "codemirror_mode": {
    "name": "ipython",
    "version": 3
   },
   "file_extension": ".py",
   "mimetype": "text/x-python",
   "name": "python",
   "nbconvert_exporter": "python",
   "pygments_lexer": "ipython3",
   "version": "3.8.3"
  },
  "papermill": {
   "default_parameters": {},
   "duration": 10.823816,
   "end_time": "2021-07-10T13:12:35.156782",
   "environment_variables": {},
   "exception": null,
   "input_path": "__notebook__.ipynb",
   "output_path": "__notebook__.ipynb",
   "parameters": {},
   "start_time": "2021-07-10T13:12:24.332966",
   "version": "2.3.3"
  }
 },
 "nbformat": 4,
 "nbformat_minor": 5
}
