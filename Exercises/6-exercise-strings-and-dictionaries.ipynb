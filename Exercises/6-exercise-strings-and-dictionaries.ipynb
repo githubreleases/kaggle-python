{
 "cells": [
  {
   "cell_type": "markdown",
   "metadata": {
    "papermill": {
     "duration": 0.019218,
     "end_time": "2021-07-10T13:16:31.199502",
     "exception": false,
     "start_time": "2021-07-10T13:16:31.180284",
     "status": "completed"
    },
    "tags": []
   },
   "source": [
    "You are almost done with the course. Nice job!\n",
    "\n",
    "We have a couple more interesting problems for you before you go. \n",
    "\n",
    "As always, run the setup code below before working on the questions."
   ]
  },
  {
   "cell_type": "code",
   "execution_count": 1,
   "metadata": {
    "execution": {
     "iopub.execute_input": "2021-07-10T13:16:31.241523Z",
     "iopub.status.busy": "2021-07-10T13:16:31.240298Z",
     "iopub.status.idle": "2021-07-10T13:16:31.394458Z",
     "shell.execute_reply": "2021-07-10T13:16:31.394947Z",
     "shell.execute_reply.started": "2021-07-10T13:03:34.988057Z"
    },
    "papermill": {
     "duration": 0.176852,
     "end_time": "2021-07-10T13:16:31.395252",
     "exception": false,
     "start_time": "2021-07-10T13:16:31.218400",
     "status": "completed"
    },
    "tags": []
   },
   "outputs": [
    {
     "name": "stdout",
     "output_type": "stream",
     "text": [
      "Setup complete.\n"
     ]
    }
   ],
   "source": [
    "from learntools.core import binder; binder.bind(globals())\n",
    "from learntools.python.ex6 import *\n",
    "print('Setup complete.')"
   ]
  },
  {
   "cell_type": "markdown",
   "metadata": {
    "papermill": {
     "duration": 0.019001,
     "end_time": "2021-07-10T13:16:31.433929",
     "exception": false,
     "start_time": "2021-07-10T13:16:31.414928",
     "status": "completed"
    },
    "tags": []
   },
   "source": [
    "Let's start with a string lightning round to warm up. What are the lengths of the strings below?\n",
    "\n",
    "For each of the five strings below, predict what `len()` would return when passed that string. Use the variable `length` to record your answer, then run the cell to check whether you were right.  \n",
    "\n",
    "# 0a."
   ]
  },
  {
   "cell_type": "code",
   "execution_count": 2,
   "metadata": {
    "execution": {
     "iopub.execute_input": "2021-07-10T13:16:31.486493Z",
     "iopub.status.busy": "2021-07-10T13:16:31.485417Z",
     "iopub.status.idle": "2021-07-10T13:16:31.504478Z",
     "shell.execute_reply": "2021-07-10T13:16:31.503601Z",
     "shell.execute_reply.started": "2021-07-10T13:03:35.141802Z"
    },
    "papermill": {
     "duration": 0.051398,
     "end_time": "2021-07-10T13:16:31.504756",
     "exception": false,
     "start_time": "2021-07-10T13:16:31.453358",
     "status": "completed"
    },
    "tags": []
   },
   "outputs": [
    {
     "data": {
      "application/javascript": [
       "parent.postMessage({\"jupyterEvent\": \"custom.exercise_interaction\", \"data\": {\"outcomeType\": 1, \"valueTowardsCompletion\": 0.3333333333333333, \"interactionType\": 1, \"questionType\": 1, \"questionId\": \"0.1_ZA\", \"learnToolsVersion\": \"0.3.4\", \"failureMessage\": \"\", \"exceptionClass\": \"\", \"trace\": \"\"}}, \"*\")"
      ],
      "text/plain": [
       "<IPython.core.display.Javascript object>"
      ]
     },
     "metadata": {},
     "output_type": "display_data"
    },
    {
     "data": {
      "text/markdown": [
       "<span style=\"color:#33cc33\">Correct:</span> \n",
       "\n",
       "The empty string has length zero. Note that the empty string is also the only string that Python considers as False when converting to boolean."
      ],
      "text/plain": [
       "Correct: \n",
       "\n",
       "The empty string has length zero. Note that the empty string is also the only string that Python considers as False when converting to boolean."
      ]
     },
     "metadata": {},
     "output_type": "display_data"
    }
   ],
   "source": [
    "a = \"\"\n",
    "length = 0\n",
    "q0.a.check()"
   ]
  },
  {
   "cell_type": "markdown",
   "metadata": {
    "papermill": {
     "duration": 0.025443,
     "end_time": "2021-07-10T13:16:31.557441",
     "exception": false,
     "start_time": "2021-07-10T13:16:31.531998",
     "status": "completed"
    },
    "tags": []
   },
   "source": [
    "# 0b."
   ]
  },
  {
   "cell_type": "code",
   "execution_count": 3,
   "metadata": {
    "execution": {
     "iopub.execute_input": "2021-07-10T13:16:31.604195Z",
     "iopub.status.busy": "2021-07-10T13:16:31.603294Z",
     "iopub.status.idle": "2021-07-10T13:16:31.608196Z",
     "shell.execute_reply": "2021-07-10T13:16:31.608756Z",
     "shell.execute_reply.started": "2021-07-10T13:03:35.154567Z"
    },
    "papermill": {
     "duration": 0.031021,
     "end_time": "2021-07-10T13:16:31.608926",
     "exception": false,
     "start_time": "2021-07-10T13:16:31.577905",
     "status": "completed"
    },
    "tags": []
   },
   "outputs": [
    {
     "data": {
      "application/javascript": [
       "parent.postMessage({\"jupyterEvent\": \"custom.exercise_interaction\", \"data\": {\"outcomeType\": 1, \"valueTowardsCompletion\": 0.3333333333333333, \"interactionType\": 1, \"questionType\": 1, \"questionId\": \"0.2_ZB\", \"learnToolsVersion\": \"0.3.4\", \"failureMessage\": \"\", \"exceptionClass\": \"\", \"trace\": \"\"}}, \"*\")"
      ],
      "text/plain": [
       "<IPython.core.display.Javascript object>"
      ]
     },
     "metadata": {},
     "output_type": "display_data"
    },
    {
     "data": {
      "text/markdown": [
       "<span style=\"color:#33cc33\">Correct:</span> \n",
       "\n",
       "Keep in mind Python includes spaces (and punctuation) when counting string length."
      ],
      "text/plain": [
       "Correct: \n",
       "\n",
       "Keep in mind Python includes spaces (and punctuation) when counting string length."
      ]
     },
     "metadata": {},
     "output_type": "display_data"
    }
   ],
   "source": [
    "b = \"it's ok\"\n",
    "length = 7\n",
    "q0.b.check()"
   ]
  },
  {
   "cell_type": "markdown",
   "metadata": {
    "papermill": {
     "duration": 0.02152,
     "end_time": "2021-07-10T13:16:31.652020",
     "exception": false,
     "start_time": "2021-07-10T13:16:31.630500",
     "status": "completed"
    },
    "tags": []
   },
   "source": [
    "# 0c."
   ]
  },
  {
   "cell_type": "code",
   "execution_count": 4,
   "metadata": {
    "execution": {
     "iopub.execute_input": "2021-07-10T13:16:31.698149Z",
     "iopub.status.busy": "2021-07-10T13:16:31.697457Z",
     "iopub.status.idle": "2021-07-10T13:16:31.704382Z",
     "shell.execute_reply": "2021-07-10T13:16:31.704964Z",
     "shell.execute_reply.started": "2021-07-10T13:03:35.35835Z"
    },
    "papermill": {
     "duration": 0.031346,
     "end_time": "2021-07-10T13:16:31.705169",
     "exception": false,
     "start_time": "2021-07-10T13:16:31.673823",
     "status": "completed"
    },
    "tags": []
   },
   "outputs": [
    {
     "data": {
      "application/javascript": [
       "parent.postMessage({\"jupyterEvent\": \"custom.exercise_interaction\", \"data\": {\"outcomeType\": 1, \"valueTowardsCompletion\": 0.3333333333333333, \"interactionType\": 1, \"questionType\": 1, \"questionId\": \"0.3_ZC\", \"learnToolsVersion\": \"0.3.4\", \"failureMessage\": \"\", \"exceptionClass\": \"\", \"trace\": \"\"}}, \"*\")"
      ],
      "text/plain": [
       "<IPython.core.display.Javascript object>"
      ]
     },
     "metadata": {},
     "output_type": "display_data"
    },
    {
     "data": {
      "text/markdown": [
       "<span style=\"color:#33cc33\">Correct:</span> \n",
       "\n",
       "Even though we use different syntax to create it, the string `c` is identical to `b`. In particular, note that the backslash is not part of the string, so it doesn't contribute to its length."
      ],
      "text/plain": [
       "Correct: \n",
       "\n",
       "Even though we use different syntax to create it, the string `c` is identical to `b`. In particular, note that the backslash is not part of the string, so it doesn't contribute to its length."
      ]
     },
     "metadata": {},
     "output_type": "display_data"
    }
   ],
   "source": [
    "c = 'it\\'s ok'\n",
    "length = 7\n",
    "q0.c.check()"
   ]
  },
  {
   "cell_type": "markdown",
   "metadata": {
    "papermill": {
     "duration": 0.021579,
     "end_time": "2021-07-10T13:16:31.748805",
     "exception": false,
     "start_time": "2021-07-10T13:16:31.727226",
     "status": "completed"
    },
    "tags": []
   },
   "source": [
    "# 0d."
   ]
  },
  {
   "cell_type": "code",
   "execution_count": 5,
   "metadata": {
    "execution": {
     "iopub.execute_input": "2021-07-10T13:16:31.798388Z",
     "iopub.status.busy": "2021-07-10T13:16:31.797669Z",
     "iopub.status.idle": "2021-07-10T13:16:31.801849Z",
     "shell.execute_reply": "2021-07-10T13:16:31.802491Z",
     "shell.execute_reply.started": "2021-07-10T13:03:35.375124Z"
    },
    "papermill": {
     "duration": 0.031834,
     "end_time": "2021-07-10T13:16:31.802665",
     "exception": false,
     "start_time": "2021-07-10T13:16:31.770831",
     "status": "completed"
    },
    "tags": []
   },
   "outputs": [
    {
     "data": {
      "application/javascript": [
       "parent.postMessage({\"jupyterEvent\": \"custom.exercise_interaction\", \"data\": {\"outcomeType\": 1, \"valueTowardsCompletion\": 0.3333333333333333, \"interactionType\": 1, \"questionType\": 1, \"questionId\": \"0.4_ZD\", \"learnToolsVersion\": \"0.3.4\", \"failureMessage\": \"\", \"exceptionClass\": \"\", \"trace\": \"\"}}, \"*\")"
      ],
      "text/plain": [
       "<IPython.core.display.Javascript object>"
      ]
     },
     "metadata": {},
     "output_type": "display_data"
    },
    {
     "data": {
      "text/markdown": [
       "<span style=\"color:#33cc33\">Correct:</span> \n",
       "\n",
       "The fact that this string was created using triple-quote syntax doesn't make any difference in terms of its content or length. This string is exactly the same as `'hey'`."
      ],
      "text/plain": [
       "Correct: \n",
       "\n",
       "The fact that this string was created using triple-quote syntax doesn't make any difference in terms of its content or length. This string is exactly the same as `'hey'`."
      ]
     },
     "metadata": {},
     "output_type": "display_data"
    }
   ],
   "source": [
    "d = \"\"\"hey\"\"\"\n",
    "length = 3\n",
    "q0.d.check()"
   ]
  },
  {
   "cell_type": "markdown",
   "metadata": {
    "papermill": {
     "duration": 0.022586,
     "end_time": "2021-07-10T13:16:31.848259",
     "exception": false,
     "start_time": "2021-07-10T13:16:31.825673",
     "status": "completed"
    },
    "tags": []
   },
   "source": [
    "# 0e."
   ]
  },
  {
   "cell_type": "code",
   "execution_count": 6,
   "metadata": {
    "execution": {
     "iopub.execute_input": "2021-07-10T13:16:31.897767Z",
     "iopub.status.busy": "2021-07-10T13:16:31.896643Z",
     "iopub.status.idle": "2021-07-10T13:16:31.904640Z",
     "shell.execute_reply": "2021-07-10T13:16:31.905148Z",
     "shell.execute_reply.started": "2021-07-10T13:03:35.388056Z"
    },
    "papermill": {
     "duration": 0.034146,
     "end_time": "2021-07-10T13:16:31.905319",
     "exception": false,
     "start_time": "2021-07-10T13:16:31.871173",
     "status": "completed"
    },
    "tags": []
   },
   "outputs": [
    {
     "data": {
      "application/javascript": [
       "parent.postMessage({\"jupyterEvent\": \"custom.exercise_interaction\", \"data\": {\"outcomeType\": 1, \"valueTowardsCompletion\": 0.3333333333333333, \"interactionType\": 1, \"questionType\": 1, \"questionId\": \"0.5_ZE\", \"learnToolsVersion\": \"0.3.4\", \"failureMessage\": \"\", \"exceptionClass\": \"\", \"trace\": \"\"}}, \"*\")"
      ],
      "text/plain": [
       "<IPython.core.display.Javascript object>"
      ]
     },
     "metadata": {},
     "output_type": "display_data"
    },
    {
     "data": {
      "text/markdown": [
       "<span style=\"color:#33cc33\">Correct:</span> \n",
       "\n",
       "The newline character is just a single character! (Even though we represent it to Python using a combination of two characters.)"
      ],
      "text/plain": [
       "Correct: \n",
       "\n",
       "The newline character is just a single character! (Even though we represent it to Python using a combination of two characters.)"
      ]
     },
     "metadata": {},
     "output_type": "display_data"
    }
   ],
   "source": [
    "e = '\\n'\n",
    "length = 1\n",
    "q0.e.check()"
   ]
  },
  {
   "cell_type": "markdown",
   "metadata": {
    "papermill": {
     "duration": 0.023622,
     "end_time": "2021-07-10T13:16:31.952963",
     "exception": false,
     "start_time": "2021-07-10T13:16:31.929341",
     "status": "completed"
    },
    "tags": []
   },
   "source": [
    "# 1.\n",
    "\n",
    "There is a saying that \"Data scientists spend 80% of their time cleaning data, and 20% of their time complaining about cleaning data.\" Let's see if you can write a function to help clean US zip code data. Given a string, it should return whether or not that string represents a valid zip code. For our purposes, a valid zip code is any string consisting of exactly 5 digits.\n",
    "\n",
    "HINT: `str` has a method that will be useful here. Use `help(str)` to review a list of string methods."
   ]
  },
  {
   "cell_type": "code",
   "execution_count": 7,
   "metadata": {
    "execution": {
     "iopub.execute_input": "2021-07-10T13:16:32.006839Z",
     "iopub.status.busy": "2021-07-10T13:16:32.005720Z",
     "iopub.status.idle": "2021-07-10T13:16:32.013527Z",
     "shell.execute_reply": "2021-07-10T13:16:32.013986Z",
     "shell.execute_reply.started": "2021-07-10T13:03:35.401023Z"
    },
    "papermill": {
     "duration": 0.037359,
     "end_time": "2021-07-10T13:16:32.014174",
     "exception": false,
     "start_time": "2021-07-10T13:16:31.976815",
     "status": "completed"
    },
    "tags": []
   },
   "outputs": [
    {
     "data": {
      "application/javascript": [
       "parent.postMessage({\"jupyterEvent\": \"custom.exercise_interaction\", \"data\": {\"outcomeType\": 1, \"valueTowardsCompletion\": 0.3333333333333333, \"interactionType\": 1, \"questionType\": 2, \"questionId\": \"1_ZipValidator\", \"learnToolsVersion\": \"0.3.4\", \"failureMessage\": \"\", \"exceptionClass\": \"\", \"trace\": \"\"}}, \"*\")"
      ],
      "text/plain": [
       "<IPython.core.display.Javascript object>"
      ]
     },
     "metadata": {},
     "output_type": "display_data"
    },
    {
     "data": {
      "text/markdown": [
       "<span style=\"color:#33cc33\">Correct</span>"
      ],
      "text/plain": [
       "Correct"
      ]
     },
     "metadata": {},
     "output_type": "display_data"
    }
   ],
   "source": [
    "def is_valid_zip(zip_code):\n",
    "    \"\"\"Returns whether the input string is a valid (5 digit) zip code\n",
    "    \"\"\"\n",
    "    return len(zip_code) == 5 and zip_code.isdigit()\n",
    "\n",
    "# Check your answer\n",
    "q1.check()"
   ]
  },
  {
   "cell_type": "markdown",
   "metadata": {
    "papermill": {
     "duration": 0.025237,
     "end_time": "2021-07-10T13:16:32.066870",
     "exception": false,
     "start_time": "2021-07-10T13:16:32.041633",
     "status": "completed"
    },
    "tags": []
   },
   "source": []
  },
  {
   "cell_type": "code",
   "execution_count": 8,
   "metadata": {
    "execution": {
     "iopub.execute_input": "2021-07-10T13:16:32.120946Z",
     "iopub.status.busy": "2021-07-10T13:16:32.120296Z",
     "iopub.status.idle": "2021-07-10T13:16:32.123171Z",
     "shell.execute_reply": "2021-07-10T13:16:32.123651Z",
     "shell.execute_reply.started": "2021-07-10T13:03:35.417495Z"
    },
    "papermill": {
     "duration": 0.031344,
     "end_time": "2021-07-10T13:16:32.123808",
     "exception": false,
     "start_time": "2021-07-10T13:16:32.092464",
     "status": "completed"
    },
    "tags": []
   },
   "outputs": [],
   "source": [
    "# q1.hint()\n",
    "# q1.solution()"
   ]
  },
  {
   "cell_type": "markdown",
   "metadata": {
    "papermill": {
     "duration": 0.026181,
     "end_time": "2021-07-10T13:16:32.175211",
     "exception": false,
     "start_time": "2021-07-10T13:16:32.149030",
     "status": "completed"
    },
    "tags": []
   },
   "source": [
    "# 2.\n",
    "\n",
    "A researcher has gathered thousands of news articles. But she wants to focus her attention on articles including a specific word. Complete the function below to help her filter her list of articles.\n",
    "\n",
    "Your function should meet the following criteria:\n",
    "\n",
    "- Do not include documents where the keyword string shows up only as a part of a larger word. For example, if she were looking for the keyword “closed”, you would not include the string “enclosed.” \n",
    "- She does not want you to distinguish upper case from lower case letters. So the phrase “Closed the case.” would be included when the keyword is “closed”\n",
    "- Do not let periods or commas affect what is matched. “It is closed.” would be included when the keyword is “closed”. But you can assume there are no other types of punctuation."
   ]
  },
  {
   "cell_type": "code",
   "execution_count": 9,
   "metadata": {
    "execution": {
     "iopub.execute_input": "2021-07-10T13:16:32.229940Z",
     "iopub.status.busy": "2021-07-10T13:16:32.229297Z",
     "iopub.status.idle": "2021-07-10T13:16:32.238320Z",
     "shell.execute_reply": "2021-07-10T13:16:32.237662Z",
     "shell.execute_reply.started": "2021-07-10T13:03:35.438998Z"
    },
    "papermill": {
     "duration": 0.037992,
     "end_time": "2021-07-10T13:16:32.238463",
     "exception": false,
     "start_time": "2021-07-10T13:16:32.200471",
     "status": "completed"
    },
    "tags": []
   },
   "outputs": [
    {
     "data": {
      "application/javascript": [
       "parent.postMessage({\"jupyterEvent\": \"custom.exercise_interaction\", \"data\": {\"outcomeType\": 1, \"valueTowardsCompletion\": 0.3333333333333333, \"interactionType\": 1, \"questionType\": 2, \"questionId\": \"2_WordSearch\", \"learnToolsVersion\": \"0.3.4\", \"failureMessage\": \"\", \"exceptionClass\": \"\", \"trace\": \"\"}}, \"*\")"
      ],
      "text/plain": [
       "<IPython.core.display.Javascript object>"
      ]
     },
     "metadata": {},
     "output_type": "display_data"
    },
    {
     "data": {
      "text/markdown": [
       "<span style=\"color:#33cc33\">Correct</span>"
      ],
      "text/plain": [
       "Correct"
      ]
     },
     "metadata": {},
     "output_type": "display_data"
    }
   ],
   "source": [
    "def word_search(doc_list, keyword):\n",
    "    \"\"\"\n",
    "    Takes a list of documents (each document is a string) and a keyword. \n",
    "    Returns list of the index values into the original list for all documents \n",
    "    containing the keyword.\n",
    "\n",
    "    Example:\n",
    "    doc_list = [\"The Learn Python Challenge Casino.\", \"They bought a car\", \"Casinoville\"]\n",
    "    >>> word_search(doc_list, 'casino')\n",
    "    >>> [0]\n",
    "    \"\"\"\n",
    "    arr = []\n",
    "    \n",
    "    for i, doc in enumerate(doc_list):\n",
    "        tokens = doc.split()\n",
    "        normalized = [token.rstrip(',.').lower() for token in tokens]\n",
    "        \n",
    "        if keyword.lower() in normalized:\n",
    "            arr.append(i)\n",
    "    return arr\n",
    "\n",
    "# Check your answer\n",
    "q2.check()"
   ]
  },
  {
   "cell_type": "code",
   "execution_count": 10,
   "metadata": {
    "execution": {
     "iopub.execute_input": "2021-07-10T13:16:32.295907Z",
     "iopub.status.busy": "2021-07-10T13:16:32.295207Z",
     "iopub.status.idle": "2021-07-10T13:16:32.298019Z",
     "shell.execute_reply": "2021-07-10T13:16:32.297498Z",
     "shell.execute_reply.started": "2021-07-10T13:03:35.451063Z"
    },
    "papermill": {
     "duration": 0.033149,
     "end_time": "2021-07-10T13:16:32.298168",
     "exception": false,
     "start_time": "2021-07-10T13:16:32.265019",
     "status": "completed"
    },
    "tags": []
   },
   "outputs": [],
   "source": [
    "doc_list = [\"The Learn Python Challenge Casino.\", \"They bought a car!!!\", \"Casinoville\"]"
   ]
  },
  {
   "cell_type": "code",
   "execution_count": 11,
   "metadata": {
    "execution": {
     "iopub.execute_input": "2021-07-10T13:16:32.357039Z",
     "iopub.status.busy": "2021-07-10T13:16:32.356283Z",
     "iopub.status.idle": "2021-07-10T13:16:32.359741Z",
     "shell.execute_reply": "2021-07-10T13:16:32.360210Z",
     "shell.execute_reply.started": "2021-07-10T13:03:35.46138Z"
    },
    "papermill": {
     "duration": 0.035048,
     "end_time": "2021-07-10T13:16:32.360382",
     "exception": false,
     "start_time": "2021-07-10T13:16:32.325334",
     "status": "completed"
    },
    "tags": []
   },
   "outputs": [
    {
     "name": "stdout",
     "output_type": "stream",
     "text": [
      "[(0, 'The Learn Python Challenge Casino.'), (1, 'They bought a car!!!'), (2, 'Casinoville')]\n"
     ]
    }
   ],
   "source": [
    "enumerate_doc_list = enumerate(doc_list)\n",
    "print(list(enumerate_doc_list))"
   ]
  },
  {
   "cell_type": "code",
   "execution_count": 12,
   "metadata": {
    "execution": {
     "iopub.execute_input": "2021-07-10T13:16:32.416959Z",
     "iopub.status.busy": "2021-07-10T13:16:32.416011Z",
     "iopub.status.idle": "2021-07-10T13:16:32.424733Z",
     "shell.execute_reply": "2021-07-10T13:16:32.425418Z",
     "shell.execute_reply.started": "2021-07-10T13:03:36.579265Z"
    },
    "papermill": {
     "duration": 0.038841,
     "end_time": "2021-07-10T13:16:32.425668",
     "exception": false,
     "start_time": "2021-07-10T13:16:32.386827",
     "status": "completed"
    },
    "tags": []
   },
   "outputs": [
    {
     "name": "stdout",
     "output_type": "stream",
     "text": [
      "Enm 0 : The Learn Python Challenge Casino.\n",
      "Toc 0 : ['The', 'Learn', 'Python', 'Challenge', 'Casino.']\n",
      "Nor 0 : ['the', 'learn', 'python', 'challenge', 'casino'] \n",
      "\n",
      "Enm 1 : They bought a car!!!\n",
      "Toc 1 : ['They', 'bought', 'a', 'car!!!']\n",
      "Nor 1 : ['they', 'bought', 'a', 'car'] \n",
      "\n",
      "True {1}\n",
      "Enm 2 : Casinoville\n",
      "Toc 2 : ['Casinoville']\n",
      "Nor 2 : ['casinoville'] \n",
      "\n"
     ]
    }
   ],
   "source": [
    "for i, doc in enumerate(doc_list):\n",
    "    print(f\"Enm {i} : {doc}\")\n",
    "    \n",
    "    tokens = doc.split()\n",
    "    print(f\"Toc {i} : {tokens}\")\n",
    "    \n",
    "    normalized = [token.rstrip(',.!').lower() for token in tokens]\n",
    "    print(f\"Nor {i} : {normalized} \\n\")\n",
    "    \n",
    "    if \"car\" in normalized:\n",
    "        print(\"True\", {i})"
   ]
  },
  {
   "cell_type": "code",
   "execution_count": 13,
   "metadata": {
    "execution": {
     "iopub.execute_input": "2021-07-10T13:16:32.485618Z",
     "iopub.status.busy": "2021-07-10T13:16:32.484806Z",
     "iopub.status.idle": "2021-07-10T13:16:32.487768Z",
     "shell.execute_reply": "2021-07-10T13:16:32.487254Z",
     "shell.execute_reply.started": "2021-07-10T13:03:36.58736Z"
    },
    "papermill": {
     "duration": 0.034549,
     "end_time": "2021-07-10T13:16:32.488010",
     "exception": false,
     "start_time": "2021-07-10T13:16:32.453461",
     "status": "completed"
    },
    "tags": []
   },
   "outputs": [],
   "source": [
    "# q2.hint()\n",
    "# q2.solution()"
   ]
  },
  {
   "cell_type": "markdown",
   "metadata": {
    "papermill": {
     "duration": 0.026509,
     "end_time": "2021-07-10T13:16:32.542018",
     "exception": false,
     "start_time": "2021-07-10T13:16:32.515509",
     "status": "completed"
    },
    "tags": []
   },
   "source": [
    "# 3.\n",
    "\n",
    "Now the researcher wants to supply multiple keywords to search for. Complete the function below to help her.\n",
    "\n",
    "(You're encouraged to use the `word_search` function you just wrote when implementing this function. Reusing code in this way makes your programs more robust and readable - and it saves typing!)"
   ]
  },
  {
   "cell_type": "code",
   "execution_count": 14,
   "metadata": {
    "execution": {
     "iopub.execute_input": "2021-07-10T13:16:32.603070Z",
     "iopub.status.busy": "2021-07-10T13:16:32.602251Z",
     "iopub.status.idle": "2021-07-10T13:16:32.608059Z",
     "shell.execute_reply": "2021-07-10T13:16:32.608543Z",
     "shell.execute_reply.started": "2021-07-10T13:03:36.603257Z"
    },
    "papermill": {
     "duration": 0.039227,
     "end_time": "2021-07-10T13:16:32.608716",
     "exception": false,
     "start_time": "2021-07-10T13:16:32.569489",
     "status": "completed"
    },
    "tags": []
   },
   "outputs": [
    {
     "data": {
      "application/javascript": [
       "parent.postMessage({\"jupyterEvent\": \"custom.exercise_interaction\", \"data\": {\"outcomeType\": 1, \"valueTowardsCompletion\": 0.3333333333333333, \"interactionType\": 1, \"questionType\": 2, \"questionId\": \"3_MultiWordSearch\", \"learnToolsVersion\": \"0.3.4\", \"failureMessage\": \"\", \"exceptionClass\": \"\", \"trace\": \"\"}}, \"*\")"
      ],
      "text/plain": [
       "<IPython.core.display.Javascript object>"
      ]
     },
     "metadata": {},
     "output_type": "display_data"
    },
    {
     "data": {
      "text/markdown": [
       "<span style=\"color:#33cc33\">Correct</span>"
      ],
      "text/plain": [
       "Correct"
      ]
     },
     "metadata": {},
     "output_type": "display_data"
    }
   ],
   "source": [
    "def multi_word_search(doc_list, keywords):\n",
    "    \"\"\"\n",
    "    Takes list of documents (each document is a string) and a list of keywords.  \n",
    "    Returns a dictionary where each key is a keyword, and the value is a list of indices\n",
    "    (from doc_list) of the documents containing that keyword\n",
    "\n",
    "    >>> doc_list = [\"The Learn Python Challenge Casino.\", \"They bought a car and a casino\", \"Casinoville\"]\n",
    "    >>> keywords = ['casino', 'they']\n",
    "    >>> multi_word_search(doc_list, keywords)\n",
    "    {'casino': [0, 1], 'they': [1]}\n",
    "    \"\"\"\n",
    "    key = {}\n",
    "    \n",
    "    for k in keywords:\n",
    "        key[k] = word_search(doc_list, k)\n",
    "    return key\n",
    "\n",
    "# Check your answer\n",
    "q3.check()"
   ]
  },
  {
   "cell_type": "code",
   "execution_count": 15,
   "metadata": {
    "execution": {
     "iopub.execute_input": "2021-07-10T13:16:32.670124Z",
     "iopub.status.busy": "2021-07-10T13:16:32.669430Z",
     "iopub.status.idle": "2021-07-10T13:16:32.673145Z",
     "shell.execute_reply": "2021-07-10T13:16:32.672476Z",
     "shell.execute_reply.started": "2021-07-10T13:03:36.618543Z"
    },
    "papermill": {
     "duration": 0.03663,
     "end_time": "2021-07-10T13:16:32.673292",
     "exception": false,
     "start_time": "2021-07-10T13:16:32.636662",
     "status": "completed"
    },
    "tags": []
   },
   "outputs": [],
   "source": [
    "# q3.solution()"
   ]
  }
 ],
 "metadata": {
  "kernelspec": {
   "display_name": "Python 3",
   "language": "python",
   "name": "python3"
  },
  "language_info": {
   "codemirror_mode": {
    "name": "ipython",
    "version": 3
   },
   "file_extension": ".py",
   "mimetype": "text/x-python",
   "name": "python",
   "nbconvert_exporter": "python",
   "pygments_lexer": "ipython3",
   "version": "3.8.3"
  },
  "papermill": {
   "default_parameters": {},
   "duration": 11.925019,
   "end_time": "2021-07-10T13:16:34.326304",
   "environment_variables": {},
   "exception": null,
   "input_path": "__notebook__.ipynb",
   "output_path": "__notebook__.ipynb",
   "parameters": {},
   "start_time": "2021-07-10T13:16:22.401285",
   "version": "2.3.3"
  }
 },
 "nbformat": 4,
 "nbformat_minor": 5
}
